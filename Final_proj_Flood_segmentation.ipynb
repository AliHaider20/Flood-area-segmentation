{
  "metadata": {
    "accelerator": "GPU",
    "colab": {
      "provenance": [],
      "gpuType": "T4"
    },
    "gpuClass": "standard",
    "kernelspec": {
      "name": "python3",
      "display_name": "Python 3",
      "language": "python"
    },
    "language_info": {
      "name": "python",
      "version": "3.7.12",
      "mimetype": "text/x-python",
      "codemirror_mode": {
        "name": "ipython",
        "version": 3
      },
      "pygments_lexer": "ipython3",
      "nbconvert_exporter": "python",
      "file_extension": ".py"
    }
  },
  "nbformat_minor": 0,
  "nbformat": 4,
  "cells": [
    {
      "cell_type": "code",
      "source": [
        "import numpy as np\n",
        "import pandas as pd\n",
        "import numpy as np\n",
        "import torch\n",
        "import cv2\n",
        "from PIL import Image\n",
        "import albumentations as A\n",
        "from torch.nn import CrossEntropyLoss\n",
        "import torch.nn as nn\n",
        "from skimage import io, transform\n",
        "import torchvision\n",
        "from albumentations.pytorch import ToTensorV2\n",
        "from sklearn.model_selection import train_test_split\n",
        "from torch.utils.data import DataLoader, Dataset, random_split\n",
        "import pandas as pd\n",
        "import  torch.nn.functional as F\n",
        "from torch import optim\n",
        "import matplotlib.pyplot as plt\n",
        "from torchvision import transforms as T\n",
        "from tqdm import tqdm\n",
        "import os\n",
        "from google.colab import drive\n",
        "drive.mount('/content/drive')\n",
        "\n",
        "\n",
        "np.random.seed(0)\n",
        "torch.manual_seed(0)"
      ],
      "metadata": {
        "execution": {
          "iopub.status.busy": "2023-05-02T18:45:19.984021Z",
          "iopub.execute_input": "2023-05-02T18:45:19.985365Z",
          "iopub.status.idle": "2023-05-02T18:45:26.343492Z",
          "shell.execute_reply.started": "2023-05-02T18:45:19.985233Z",
          "shell.execute_reply": "2023-05-02T18:45:26.339087Z"
        },
        "trusted": true,
        "id": "M3iZRJ6S25gQ",
        "colab": {
          "base_uri": "https://localhost:8080/",
          "height": 380
        },
        "outputId": "494708e1-601b-4363-f3c1-4bd278be44d1"
      },
      "execution_count": null,
      "outputs": [
        {
          "output_type": "error",
          "ename": "MessageError",
          "evalue": "ignored",
          "traceback": [
            "\u001b[0;31m---------------------------------------------------------------------------\u001b[0m",
            "\u001b[0;31mMessageError\u001b[0m                              Traceback (most recent call last)",
            "\u001b[0;32m<ipython-input-1-8ab143c5c2d4>\u001b[0m in \u001b[0;36m<cell line: 23>\u001b[0;34m()\u001b[0m\n\u001b[1;32m     21\u001b[0m \u001b[0;32mimport\u001b[0m \u001b[0mos\u001b[0m\u001b[0;34m\u001b[0m\u001b[0;34m\u001b[0m\u001b[0m\n\u001b[1;32m     22\u001b[0m \u001b[0;32mfrom\u001b[0m \u001b[0mgoogle\u001b[0m\u001b[0;34m.\u001b[0m\u001b[0mcolab\u001b[0m \u001b[0;32mimport\u001b[0m \u001b[0mdrive\u001b[0m\u001b[0;34m\u001b[0m\u001b[0;34m\u001b[0m\u001b[0m\n\u001b[0;32m---> 23\u001b[0;31m \u001b[0mdrive\u001b[0m\u001b[0;34m.\u001b[0m\u001b[0mmount\u001b[0m\u001b[0;34m(\u001b[0m\u001b[0;34m'/content/drive'\u001b[0m\u001b[0;34m)\u001b[0m\u001b[0;34m\u001b[0m\u001b[0;34m\u001b[0m\u001b[0m\n\u001b[0m\u001b[1;32m     24\u001b[0m \u001b[0;34m\u001b[0m\u001b[0m\n\u001b[1;32m     25\u001b[0m \u001b[0;34m\u001b[0m\u001b[0m\n",
            "\u001b[0;32m/usr/local/lib/python3.10/dist-packages/google/colab/drive.py\u001b[0m in \u001b[0;36mmount\u001b[0;34m(mountpoint, force_remount, timeout_ms, readonly)\u001b[0m\n\u001b[1;32m    101\u001b[0m \u001b[0;32mdef\u001b[0m \u001b[0mmount\u001b[0m\u001b[0;34m(\u001b[0m\u001b[0mmountpoint\u001b[0m\u001b[0;34m,\u001b[0m \u001b[0mforce_remount\u001b[0m\u001b[0;34m=\u001b[0m\u001b[0;32mFalse\u001b[0m\u001b[0;34m,\u001b[0m \u001b[0mtimeout_ms\u001b[0m\u001b[0;34m=\u001b[0m\u001b[0;36m120000\u001b[0m\u001b[0;34m,\u001b[0m \u001b[0mreadonly\u001b[0m\u001b[0;34m=\u001b[0m\u001b[0;32mFalse\u001b[0m\u001b[0;34m)\u001b[0m\u001b[0;34m:\u001b[0m\u001b[0;34m\u001b[0m\u001b[0;34m\u001b[0m\u001b[0m\n\u001b[1;32m    102\u001b[0m   \u001b[0;34m\"\"\"Mount your Google Drive at the specified mountpoint path.\"\"\"\u001b[0m\u001b[0;34m\u001b[0m\u001b[0;34m\u001b[0m\u001b[0m\n\u001b[0;32m--> 103\u001b[0;31m   return _mount(\n\u001b[0m\u001b[1;32m    104\u001b[0m       \u001b[0mmountpoint\u001b[0m\u001b[0;34m,\u001b[0m\u001b[0;34m\u001b[0m\u001b[0;34m\u001b[0m\u001b[0m\n\u001b[1;32m    105\u001b[0m       \u001b[0mforce_remount\u001b[0m\u001b[0;34m=\u001b[0m\u001b[0mforce_remount\u001b[0m\u001b[0;34m,\u001b[0m\u001b[0;34m\u001b[0m\u001b[0;34m\u001b[0m\u001b[0m\n",
            "\u001b[0;32m/usr/local/lib/python3.10/dist-packages/google/colab/drive.py\u001b[0m in \u001b[0;36m_mount\u001b[0;34m(mountpoint, force_remount, timeout_ms, ephemeral, readonly)\u001b[0m\n\u001b[1;32m    130\u001b[0m   )\n\u001b[1;32m    131\u001b[0m   \u001b[0;32mif\u001b[0m \u001b[0mephemeral\u001b[0m\u001b[0;34m:\u001b[0m\u001b[0;34m\u001b[0m\u001b[0;34m\u001b[0m\u001b[0m\n\u001b[0;32m--> 132\u001b[0;31m     _message.blocking_request(\n\u001b[0m\u001b[1;32m    133\u001b[0m         \u001b[0;34m'request_auth'\u001b[0m\u001b[0;34m,\u001b[0m \u001b[0mrequest\u001b[0m\u001b[0;34m=\u001b[0m\u001b[0;34m{\u001b[0m\u001b[0;34m'authType'\u001b[0m\u001b[0;34m:\u001b[0m \u001b[0;34m'dfs_ephemeral'\u001b[0m\u001b[0;34m}\u001b[0m\u001b[0;34m,\u001b[0m \u001b[0mtimeout_sec\u001b[0m\u001b[0;34m=\u001b[0m\u001b[0;32mNone\u001b[0m\u001b[0;34m\u001b[0m\u001b[0;34m\u001b[0m\u001b[0m\n\u001b[1;32m    134\u001b[0m     )\n",
            "\u001b[0;32m/usr/local/lib/python3.10/dist-packages/google/colab/_message.py\u001b[0m in \u001b[0;36mblocking_request\u001b[0;34m(request_type, request, timeout_sec, parent)\u001b[0m\n\u001b[1;32m    174\u001b[0m       \u001b[0mrequest_type\u001b[0m\u001b[0;34m,\u001b[0m \u001b[0mrequest\u001b[0m\u001b[0;34m,\u001b[0m \u001b[0mparent\u001b[0m\u001b[0;34m=\u001b[0m\u001b[0mparent\u001b[0m\u001b[0;34m,\u001b[0m \u001b[0mexpect_reply\u001b[0m\u001b[0;34m=\u001b[0m\u001b[0;32mTrue\u001b[0m\u001b[0;34m\u001b[0m\u001b[0;34m\u001b[0m\u001b[0m\n\u001b[1;32m    175\u001b[0m   )\n\u001b[0;32m--> 176\u001b[0;31m   \u001b[0;32mreturn\u001b[0m \u001b[0mread_reply_from_input\u001b[0m\u001b[0;34m(\u001b[0m\u001b[0mrequest_id\u001b[0m\u001b[0;34m,\u001b[0m \u001b[0mtimeout_sec\u001b[0m\u001b[0;34m)\u001b[0m\u001b[0;34m\u001b[0m\u001b[0;34m\u001b[0m\u001b[0m\n\u001b[0m",
            "\u001b[0;32m/usr/local/lib/python3.10/dist-packages/google/colab/_message.py\u001b[0m in \u001b[0;36mread_reply_from_input\u001b[0;34m(message_id, timeout_sec)\u001b[0m\n\u001b[1;32m    101\u001b[0m     ):\n\u001b[1;32m    102\u001b[0m       \u001b[0;32mif\u001b[0m \u001b[0;34m'error'\u001b[0m \u001b[0;32min\u001b[0m \u001b[0mreply\u001b[0m\u001b[0;34m:\u001b[0m\u001b[0;34m\u001b[0m\u001b[0;34m\u001b[0m\u001b[0m\n\u001b[0;32m--> 103\u001b[0;31m         \u001b[0;32mraise\u001b[0m \u001b[0mMessageError\u001b[0m\u001b[0;34m(\u001b[0m\u001b[0mreply\u001b[0m\u001b[0;34m[\u001b[0m\u001b[0;34m'error'\u001b[0m\u001b[0;34m]\u001b[0m\u001b[0;34m)\u001b[0m\u001b[0;34m\u001b[0m\u001b[0;34m\u001b[0m\u001b[0m\n\u001b[0m\u001b[1;32m    104\u001b[0m       \u001b[0;32mreturn\u001b[0m \u001b[0mreply\u001b[0m\u001b[0;34m.\u001b[0m\u001b[0mget\u001b[0m\u001b[0;34m(\u001b[0m\u001b[0;34m'data'\u001b[0m\u001b[0;34m,\u001b[0m \u001b[0;32mNone\u001b[0m\u001b[0;34m)\u001b[0m\u001b[0;34m\u001b[0m\u001b[0;34m\u001b[0m\u001b[0m\n\u001b[1;32m    105\u001b[0m \u001b[0;34m\u001b[0m\u001b[0m\n",
            "\u001b[0;31mMessageError\u001b[0m: Error: credential propagation was unsuccessful"
          ]
        }
      ]
    },
    {
      "cell_type": "code",
      "source": [
        "img = plt.imread(\"/content/drive/MyDrive/datasets/Flood area segmentation/Image/0.jpg\")[:, :, :3]\n",
        "mask = plt.imread(\"/content/drive/MyDrive/datasets/Flood area segmentation/Mask/0.png\")\n",
        "\n",
        "fig, axes = plt.subplots(1, 2, figsize=(10, 10))\n",
        "axes[0].imshow(img)\n",
        "axes[1].imshow(mask);"
      ],
      "metadata": {
        "id": "CXQk-VzkHDok",
        "_kg_hide-input": false,
        "execution": {
          "iopub.status.busy": "2023-05-02T18:45:26.346706Z",
          "iopub.execute_input": "2023-05-02T18:45:26.347620Z",
          "iopub.status.idle": "2023-05-02T18:45:26.982743Z",
          "shell.execute_reply.started": "2023-05-02T18:45:26.347549Z",
          "shell.execute_reply": "2023-05-02T18:45:26.981744Z"
        },
        "trusted": true
      },
      "execution_count": null,
      "outputs": []
    },
    {
      "cell_type": "code",
      "source": [
        "class FloodDataset(Dataset):\n",
        "    def __init__(self, csv_file, img_dir, mask_dir, is_train=True, transform=False, channel=True):\n",
        "        self.img_dir  = img_dir\n",
        "        self.df = pd.read_csv(csv_file).iloc[1:, :]\n",
        "        self.mask_dir = mask_dir\n",
        "        self.channel = channel\n",
        "        self.transform  = transform\n",
        "        self.X_train, self.X_test, self.y_train, self.y_test = train_test_split(self.df.iloc[:, 0], self.df.iloc[:, 1], train_size=0.8)\n",
        "        if is_train:\n",
        "            self.images = self.X_train\n",
        "            self.mask = self.y_train\n",
        "        else:\n",
        "            self.images = self.X_test\n",
        "            self.mask = self.y_test\n",
        "    def __len__(self):\n",
        "        return len(self.images)\n",
        "    def __getitem__(self, index):\n",
        "        img    = cv2.imread(os.path.join(self.img_dir, self.images.iloc[index]))\n",
        "        mask   = cv2.imread(os.path.join(self.mask_dir, self.mask.iloc[index]))\n",
        "        mask = cv2.cvtColor(mask, cv2.COLOR_BGR2GRAY)\n",
        "        # img = cv2.bitwise_and(img, img,mask = cv2.Canny(img, 200,255))\n",
        "        # img = np.divide(img, 255)\n",
        "        if self.transform:\n",
        "            img = self.transform(img)\n",
        "            mask = self.transform(mask)\n",
        "        return T.Normalize(mean= [0.485, 0.456, 0.406] , std = [0.229, 0.224, 0.225])(img), T.Normalize(mean = 0.485, std = 0.224)(mask)\n",
        "\n",
        "img_dir = \"/content/drive/MyDrive/datasets/Flood area segmentation/Image\"\n",
        "mask_dir = \"/content/drive/MyDrive/datasets/Flood area segmentation/Mask\"\n",
        "csv = \"/content/drive/MyDrive/datasets/Flood area segmentation/metadata.csv\"\n",
        "\n",
        "PATCH_SIZE = 224\n",
        "batch_size = 6\n",
        "device = \"cuda\" if torch.cuda.is_available() else \"cpu\"\n",
        "\n",
        "transforms = T.Compose([\n",
        "    T.ToTensor(),\n",
        "    T.Resize((PATCH_SIZE, PATCH_SIZE)),\n",
        "    T.RandomCrop((PATCH_SIZE, PATCH_SIZE)),\n",
        "    T.ColorJitter(),\n",
        "    T.RandomVerticalFlip(),\n",
        "    T.RandomHorizontalFlip(),\n",
        "    # Otsu\n",
        "\n",
        "]\n",
        ")\n",
        "\n",
        "\n",
        "def Otsu(img):\n",
        "    mean = img.mean()\n",
        "    img[img<= 0.5] = 0\n",
        "    img[img>0.5] = 1\n",
        "    return img\n",
        "\n",
        "train_ds = FloodDataset(csv, img_dir, mask_dir, is_train=True,  transform=transforms)\n",
        "test_ds = FloodDataset(csv, img_dir, mask_dir, is_train=False, transform=transforms)\n",
        "\n",
        "train_dl = DataLoader(train_ds, batch_size = batch_size,shuffle=True, pin_memory=True)\n",
        "test_dl = DataLoader(test_ds, batch_size= batch_size, pin_memory=True)\n",
        "\n",
        "for img, mask in train_dl:\n",
        "    print(img.shape, mask.shape)\n",
        "    break"
      ],
      "metadata": {
        "id": "GhH3G7TlcYdg",
        "execution": {
          "iopub.status.busy": "2023-05-02T18:45:26.983755Z",
          "iopub.execute_input": "2023-05-02T18:45:26.984089Z",
          "iopub.status.idle": "2023-05-02T18:45:28.611511Z",
          "shell.execute_reply.started": "2023-05-02T18:45:26.984060Z",
          "shell.execute_reply": "2023-05-02T18:45:28.610234Z"
        },
        "trusted": true
      },
      "execution_count": null,
      "outputs": []
    },
    {
      "cell_type": "markdown",
      "source": [
        "## Image processing"
      ],
      "metadata": {
        "id": "1mylwEWd25ge"
      }
    },
    {
      "cell_type": "code",
      "source": [
        "for img, mask in train_dl:\n",
        "    print(img.shape, mask.shape)\n",
        "    break\n",
        "fig, axis = plt.subplots(1, 2, figsize=(7, 10))\n",
        "axis[0].imshow(img[0].detach().numpy().swapaxes(0, 2))\n",
        "axis[1].imshow(mask[0].detach().numpy().swapaxes(0, 2))"
      ],
      "metadata": {
        "id": "ffhVAhJsQc_X",
        "execution": {
          "iopub.status.busy": "2023-05-02T18:45:28.614729Z",
          "iopub.execute_input": "2023-05-02T18:45:28.615989Z",
          "iopub.status.idle": "2023-05-02T18:45:29.292325Z",
          "shell.execute_reply.started": "2023-05-02T18:45:28.615933Z",
          "shell.execute_reply": "2023-05-02T18:45:29.290958Z"
        },
        "trusted": true
      },
      "execution_count": null,
      "outputs": []
    },
    {
      "cell_type": "code",
      "source": [
        "class IoUScore(nn.Module):\n",
        "    def __init__(self, weight=None, size_average=True):\n",
        "        super(IoUScore, self).__init__()\n",
        "\n",
        "    def forward(self, inputs, targets, smooth=1):\n",
        "\n",
        "        #comment out if your model contains a sigmoid or equivalent activation layer\n",
        "#         inputs = F.sigmoid(inputs)\n",
        "\n",
        "        #flatten label and prediction tensors\n",
        "        inputs = inputs.view(-1)\n",
        "        targets = targets.view(-1)\n",
        "\n",
        "        #intersection is equivalent to True Positive count\n",
        "        #union is the mutually inclusive area of all labels & predictions\n",
        "        intersection = (inputs * targets).sum()\n",
        "        total = (inputs + targets).sum()\n",
        "        union = total - intersection\n",
        "\n",
        "        IoU = (intersection + smooth)/(union + smooth)\n",
        "\n",
        "        return IoU\n",
        "iou = IoUScore()"
      ],
      "metadata": {
        "id": "ZyV_-8A7GjzZ",
        "execution": {
          "iopub.status.busy": "2023-05-02T18:45:29.294226Z",
          "iopub.execute_input": "2023-05-02T18:45:29.294752Z",
          "iopub.status.idle": "2023-05-02T18:45:29.304915Z",
          "shell.execute_reply.started": "2023-05-02T18:45:29.294704Z",
          "shell.execute_reply": "2023-05-02T18:45:29.303685Z"
        },
        "trusted": true
      },
      "execution_count": null,
      "outputs": []
    },
    {
      "cell_type": "markdown",
      "source": [
        "# Defining the training and validation function and initializing parameters"
      ],
      "metadata": {
        "id": "L0wdK-e2UqDF"
      }
    },
    {
      "cell_type": "code",
      "source": [
        "num_epochs = 10\n",
        "accuracies = {\"UNet\":None, \"ResNextUNet\":None, \"DeepLabV3+\":None, \"VIT\":None}\n",
        "lr = 0.001\n",
        "device = \"cuda\" if torch.cuda.is_available() else \"cpu\"\n",
        "ce_loss   = nn.BCEWithLogitsLoss()\n",
        "iou_loss = lambda y, yhat: 1 - iou(y, yhat)\n",
        "iou = IoUScore()\n",
        "trainSteps = int(len(train_ds)/batch_size)\n",
        "testSteps = int(len(test_ds)/batch_size)"
      ],
      "metadata": {
        "id": "bsiFI2QTVLA9"
      },
      "execution_count": null,
      "outputs": []
    },
    {
      "cell_type": "code",
      "source": [
        "def train_model(model, traindl, testdl, loss_fn, epochs, learning_rate):\n",
        "\n",
        "    train_loss = []\n",
        "    test_loss = []\n",
        "    test_iou = []\n",
        "    train_iou = []\n",
        "\n",
        "    opt = optim.SGD(model.parameters(), lr = learning_rate)\n",
        "    loss_fn = loss_fn\n",
        "    prev_test_loss = 100\n",
        "    prev_train_loss = 100\n",
        "    patience = 2\n",
        "    trigger_times = 0\n",
        "    model = model.to(device)\n",
        "\n",
        "    try:\n",
        "        for epoch in range(1, epochs+1):\n",
        "            # Training loop\n",
        "            model.train(True)\n",
        "            correct = 0\n",
        "            totalTrainLoss ,totalTestLoss, totalTrainIou, totalTestIou = 0, 0, 0, 0\n",
        "\n",
        "            for X, y in tqdm(train_dl):\n",
        "                X, y = X.to(device), y.to(device)\n",
        "                opt.zero_grad()\n",
        "                yhat = model(X)\n",
        "                # loss = (1- iou(y, yhat))\n",
        "        #         loss = loss_fn(y, yhat) * 0.4 + (1-iou(y, yhat))*0.6\n",
        "                loss = loss_fn(y, yhat)\n",
        "                iou_score = iou(y, yhat)\n",
        "                totalTrainIou += iou_score.item()\n",
        "                totalTrainLoss += loss.item()\n",
        "                loss.backward()\n",
        "                opt.step()\n",
        "            avg_iou = totalTrainIou / trainSteps\n",
        "            avg_loss = (totalTrainLoss/trainSteps)\n",
        "            train_iou.append(avg_iou)\n",
        "            train_loss.append(avg_loss)\n",
        "\n",
        "            # Evaluation step\n",
        "            model.train(False)\n",
        "\n",
        "            with torch.no_grad():\n",
        "                for X, y in tqdm(test_dl):\n",
        "                    X, y = X.to(device), y.to(device)\n",
        "                    yhat = model(X)\n",
        "                    loss = loss_fn(y, yhat)\n",
        "                    # loss = 1 - iou(y, yhat)\n",
        "        #             loss = loss_fn(y, yhat) * 0.4 + (1-iou(y, yhat))*0.6\n",
        "                    iou_score = iou(y, yhat)\n",
        "                    totalTestIou += iou_score.item()\n",
        "                    totalTestLoss += loss.item()\n",
        "                avg_iou = (totalTestIou/testSteps)\n",
        "                avg_loss = (totalTestLoss/testSteps)\n",
        "                if avg_iou > 0.8:\n",
        "                    torch.save(model, f\"model_{round(avg_iou, 5)}.pth\")\n",
        "                test_loss.append(avg_loss)\n",
        "                test_iou.append(avg_iou)\n",
        "                print(f\"Epoch:{epoch} train loss: {train_loss[-1]} \\\n",
        "             valid loss: {avg_loss} valid accuracy: {avg_iou} \")\n",
        "\n",
        "    except KeyboardInterrupt:\n",
        "        return model, train_loss, test_loss, train_iou, test_iou\n",
        "    return model, train_loss, test_loss, train_iou, test_iou"
      ],
      "metadata": {
        "execution": {
          "iopub.status.busy": "2023-05-02T18:45:42.049511Z",
          "iopub.execute_input": "2023-05-02T18:45:42.050073Z"
        },
        "trusted": true,
        "id": "q8ovDpeY25gr"
      },
      "execution_count": null,
      "outputs": []
    },
    {
      "cell_type": "markdown",
      "source": [
        "# UNet"
      ],
      "metadata": {
        "id": "91PK1bR2UPIk"
      }
    },
    {
      "cell_type": "code",
      "source": [
        "import torch\n",
        "import torch.nn as nn\n",
        "\n",
        "class UNet(nn.Module):\n",
        "    def __init__(self, in_channels=3, out_channels=1, features=[64, 128, 256, 512]):\n",
        "        super(UNet, self).__init__()\n",
        "\n",
        "        # Contracting Path\n",
        "        self.downs = nn.ModuleList()\n",
        "        for feature in features:\n",
        "            self.downs.append(DoubleConv(in_channels, feature))\n",
        "            in_channels = feature\n",
        "\n",
        "        # Bottleneck\n",
        "        self.bottleneck = DoubleConv(features[-1], features[-1]*2)\n",
        "\n",
        "        # Expansive Path\n",
        "        self.ups = nn.ModuleList()\n",
        "        for feature in reversed(features):\n",
        "            self.ups.append(\n",
        "                nn.ConvTranspose2d(\n",
        "                    feature*2,\n",
        "                    feature,\n",
        "                    kernel_size=2,\n",
        "                    stride=2\n",
        "                )\n",
        "            )\n",
        "            self.ups.append(DoubleConv(feature*2, feature))\n",
        "\n",
        "        # Output Layer\n",
        "        self.final_conv = nn.Conv2d(features[0], out_channels, kernel_size=1)\n",
        "\n",
        "    def forward(self, x):\n",
        "        skip_connections = []\n",
        "\n",
        "        # Contracting Path\n",
        "        for down in self.downs:\n",
        "            x = down(x)\n",
        "            skip_connections.append(x)\n",
        "            x = nn.functional.max_pool2d(x, kernel_size=2, stride=2)\n",
        "\n",
        "        # Bottleneck\n",
        "        x = self.bottleneck(x)\n",
        "\n",
        "        # Expansive Path\n",
        "        for i in range(0, len(self.ups), 2):\n",
        "            x = self.ups[i](x)\n",
        "            skip_connection = skip_connections.pop()\n",
        "            x = torch.cat((x, skip_connection), dim=1)\n",
        "            x = self.ups[i+1](x)\n",
        "\n",
        "        # Output Layer\n",
        "        x = self.final_conv(x)\n",
        "        return x\n",
        "\n",
        "class DoubleConv(nn.Module):\n",
        "    def __init__(self, in_channels, out_channels):\n",
        "        super(DoubleConv, self).__init__()\n",
        "\n",
        "        self.conv = nn.Sequential(\n",
        "            nn.Conv2d(in_channels, out_channels, kernel_size=3, padding=1),\n",
        "            nn.BatchNorm2d(out_channels),\n",
        "            nn.ReLU(inplace=True),\n",
        "            nn.Conv2d(out_channels, out_channels, kernel_size=3, padding=1),\n",
        "            nn.BatchNorm2d(out_channels),\n",
        "            nn.ReLU(inplace=True)\n",
        "        )\n",
        "\n",
        "    def forward(self, x):\n",
        "        return F.sigmoid(self.conv(x))\n",
        "unet = UNet()"
      ],
      "metadata": {
        "id": "XQ1l3kS-UOix"
      },
      "execution_count": null,
      "outputs": []
    },
    {
      "cell_type": "markdown",
      "source": [
        "### Training UNet"
      ],
      "metadata": {
        "id": "h8Emr_KwU_t7"
      }
    },
    {
      "cell_type": "code",
      "source": [
        "model, train_loss, test_loss, train_iou, test_iou = train_model(unet, train_dl,\n",
        "                                    test_dl, epochs=num_epochs, loss_fn = ce_loss, learning_rate=0.001)\n",
        "accuracies[\"UNet\"] = np.mean(test_iou)"
      ],
      "metadata": {
        "colab": {
          "base_uri": "https://localhost:8080/"
        },
        "id": "CsCtbWW8U9fP",
        "outputId": "e7ce9fde-3a91-436b-bfab-ada2fe4f7eb1"
      },
      "execution_count": null,
      "outputs": [
        {
          "output_type": "stream",
          "name": "stderr",
          "text": [
            "  0%|          | 0/39 [00:02<?, ?it/s]\n",
            "/usr/local/lib/python3.10/dist-packages/numpy/core/fromnumeric.py:3474: RuntimeWarning: Mean of empty slice.\n",
            "  return _methods._mean(a, axis=axis, dtype=dtype,\n",
            "/usr/local/lib/python3.10/dist-packages/numpy/core/_methods.py:189: RuntimeWarning: invalid value encountered in double_scalars\n",
            "  ret = ret.dtype.type(ret / rcount)\n"
          ]
        }
      ]
    },
    {
      "cell_type": "markdown",
      "source": [
        "## ResNextUNet"
      ],
      "metadata": {
        "id": "DuEgWRVc25gk"
      }
    },
    {
      "cell_type": "code",
      "source": [
        "import torch\n",
        "from torch import nn\n",
        "from torchvision.models import resnext50_32x4d\n",
        "\n",
        "class ConvRelu(nn.Module):\n",
        "    def __init__(self, in_channels, out_channels, kernel, padding):\n",
        "        super().__init__()\n",
        "\n",
        "        self.convrelu = nn.Sequential(\n",
        "            nn.Conv2d(in_channels, out_channels, kernel, padding=padding),\n",
        "            nn.ReLU(inplace=True)\n",
        "        )\n",
        "\n",
        "    def forward(self, x):\n",
        "        x = self.convrelu(x)\n",
        "        return x\n",
        "\n",
        "class DecoderBlock(nn.Module):\n",
        "    def __init__(self, in_channels, out_channels):\n",
        "        super().__init__()\n",
        "\n",
        "        self.conv1 = ConvRelu(in_channels, in_channels // 4, 1, 0)\n",
        "\n",
        "        self.deconv = nn.ConvTranspose2d(in_channels // 4, in_channels // 4, kernel_size=4,\n",
        "                                          stride=2, padding=1, output_padding=0)\n",
        "\n",
        "        self.conv2 = ConvRelu(in_channels // 4, out_channels, 1, 0)\n",
        "\n",
        "    def forward(self, x):\n",
        "        x = self.conv1(x)\n",
        "        x = self.deconv(x)\n",
        "        x = self.conv2(x)\n",
        "\n",
        "        return x\n",
        "\n",
        "\n",
        "class ResNext50Unet(nn.Module):\n",
        "\n",
        "    def __init__(self, n_classes=1):\n",
        "        super().__init__()\n",
        "\n",
        "        self.base_model = resnext50_32x4d(pretrained=True)\n",
        "        self.base_layers = list(self.base_model.children())\n",
        "        filters = [4*64, 4*128, 4*256, 4*512]\n",
        "\n",
        "        # Down\n",
        "        self.encoder0 = nn.Sequential(*self.base_layers[:3])\n",
        "        self.encoder1 = nn.Sequential(*self.base_layers[4])\n",
        "        self.encoder2 = nn.Sequential(*self.base_layers[5])\n",
        "        self.encoder3 = nn.Sequential(*self.base_layers[6])\n",
        "        self.encoder4 = nn.Sequential(*self.base_layers[7])\n",
        "\n",
        "        # Up\n",
        "        self.decoder4 = DecoderBlock(filters[3], filters[2])\n",
        "        self.decoder3 = DecoderBlock(filters[2], filters[1])\n",
        "        self.decoder2 = DecoderBlock(filters[1], filters[0])\n",
        "        self.decoder1 = DecoderBlock(filters[0], filters[0])\n",
        "\n",
        "        # Final Classifier\n",
        "        self.last_conv0 = ConvRelu(256, 128, 3, 1)\n",
        "        self.last_conv1 = nn.Conv2d(128, n_classes, 3, padding=1)\n",
        "        self.dropout = nn.Dropout(0.2)\n",
        "\n",
        "\n",
        "    def forward(self, x):\n",
        "        # Down\n",
        "        x = self.encoder0(x)\n",
        "        e1 = self.encoder1(x)\n",
        "        e2 = self.encoder2(e1)\n",
        "        e3 = self.encoder3(e2)\n",
        "        e4 = self.encoder4(e3)\n",
        "\n",
        "        # Up + sc\n",
        "#         e4 = self.dropout(e4)\n",
        "        d4 = self.decoder4(e4) + e3\n",
        "        d3 = self.decoder3(d4) + e2\n",
        "        d2 = self.decoder2(d3) + e1\n",
        "        d1 = self.decoder1(d2)\n",
        "\n",
        "        # final classifier\n",
        "#         d1 = self.dropout(d1)\n",
        "        out = self.last_conv0(d1)\n",
        "        out = self.last_conv1(out)\n",
        "        out = torch.sigmoid(out)\n",
        "\n",
        "        return out\n",
        "resnextUnet = ResNext50Unet()"
      ],
      "metadata": {
        "execution": {
          "iopub.status.busy": "2023-05-02T18:45:29.308862Z",
          "iopub.execute_input": "2023-05-02T18:45:29.309327Z",
          "iopub.status.idle": "2023-05-02T18:45:31.129678Z",
          "shell.execute_reply.started": "2023-05-02T18:45:29.309293Z",
          "shell.execute_reply": "2023-05-02T18:45:31.128203Z"
        },
        "trusted": true,
        "colab": {
          "base_uri": "https://localhost:8080/"
        },
        "id": "_iN4S_hk25gl",
        "outputId": "b21599d3-caf0-4491-dd60-992aa5d01a94"
      },
      "execution_count": null,
      "outputs": [
        {
          "output_type": "stream",
          "name": "stderr",
          "text": [
            "/usr/local/lib/python3.10/dist-packages/torchvision/models/_utils.py:208: UserWarning: The parameter 'pretrained' is deprecated since 0.13 and may be removed in the future, please use 'weights' instead.\n",
            "  warnings.warn(\n",
            "/usr/local/lib/python3.10/dist-packages/torchvision/models/_utils.py:223: UserWarning: Arguments other than a weight enum or `None` for 'weights' are deprecated since 0.13 and may be removed in the future. The current behavior is equivalent to passing `weights=ResNeXt50_32X4D_Weights.IMAGENET1K_V1`. You can also use `weights=ResNeXt50_32X4D_Weights.DEFAULT` to get the most up-to-date weights.\n",
            "  warnings.warn(msg)\n",
            "Downloading: \"https://download.pytorch.org/models/resnext50_32x4d-7cdf4587.pth\" to /root/.cache/torch/hub/checkpoints/resnext50_32x4d-7cdf4587.pth\n",
            "100%|██████████| 95.8M/95.8M [00:01<00:00, 88.2MB/s]\n"
          ]
        }
      ]
    },
    {
      "cell_type": "markdown",
      "source": [
        "## Training ResNextUnet"
      ],
      "metadata": {
        "id": "HlgDd0gO5HQX"
      }
    },
    {
      "cell_type": "code",
      "source": [
        "model, train_loss, test_loss, train_iou, test_iou = train_model(resnextUnet, train_dl,\n",
        "                                    test_dl, epochs=num_epochs, loss_fn = iou_loss, learning_rate=0.001)\n",
        "accuracies[\"ResNextUNet\"] = np.mean(test_iou)"
      ],
      "metadata": {
        "colab": {
          "base_uri": "https://localhost:8080/"
        },
        "id": "icJ4sEcwLGNl",
        "outputId": "d5f4693c-6b66-4a00-9e81-7c0b1bf7edd2",
        "execution": {
          "iopub.status.busy": "2023-05-02T12:10:40.659737Z",
          "iopub.status.idle": "2023-05-02T12:10:40.660648Z",
          "shell.execute_reply.started": "2023-05-02T12:10:40.660418Z",
          "shell.execute_reply": "2023-05-02T12:10:40.660441Z"
        },
        "trusted": true
      },
      "execution_count": null,
      "outputs": [
        {
          "output_type": "stream",
          "name": "stderr",
          "text": [
            "\r  0%|          | 0/39 [00:00<?, ?it/s]/usr/local/lib/python3.10/dist-packages/torchvision/transforms/functional.py:1603: UserWarning: The default value of the antialias parameter of all the resizing transforms (Resize(), RandomResizedCrop(), etc.) will change from None to True in v0.17, in order to be consistent across the PIL and Tensor backends. To suppress this warning, directly pass antialias=True (recommended, future default), antialias=None (current default, which means False for Tensors and True for PIL), or antialias=False (only works on Tensors - PIL will still use antialiasing). This also applies if you are using the inference transforms from the models weights: update the call to weights.transforms(antialias=True).\n",
            "  warnings.warn(\n",
            "100%|██████████| 39/39 [00:28<00:00,  1.35it/s]\n",
            "100%|██████████| 10/10 [00:05<00:00,  1.68it/s]\n"
          ]
        },
        {
          "output_type": "stream",
          "name": "stdout",
          "text": [
            "Epoch:1 train loss: 0.4760902116173192              valid loss: 0.7403108014000787 valid accuracy: 0.37080030971103245 \n"
          ]
        },
        {
          "output_type": "stream",
          "name": "stderr",
          "text": [
            "100%|██████████| 39/39 [00:25<00:00,  1.54it/s]\n",
            "100%|██████████| 10/10 [00:05<00:00,  1.82it/s]\n"
          ]
        },
        {
          "output_type": "stream",
          "name": "stdout",
          "text": [
            "Epoch:2 train loss: 0.3258759802893588              valid loss: 0.3539404604170058 valid accuracy: 0.7571706506941054 \n"
          ]
        },
        {
          "output_type": "stream",
          "name": "stderr",
          "text": [
            "100%|██████████| 39/39 [00:26<00:00,  1.49it/s]\n",
            "100%|██████████| 10/10 [00:05<00:00,  1.93it/s]\n"
          ]
        },
        {
          "output_type": "stream",
          "name": "stdout",
          "text": [
            "Epoch:3 train loss: 0.29312414558310257              valid loss: 0.3040425247616238 valid accuracy: 0.8070685863494873 \n"
          ]
        },
        {
          "output_type": "stream",
          "name": "stderr",
          "text": [
            "100%|██████████| 39/39 [00:25<00:00,  1.51it/s]\n",
            "100%|██████████| 10/10 [00:05<00:00,  1.67it/s]\n"
          ]
        },
        {
          "output_type": "stream",
          "name": "stdout",
          "text": [
            "Epoch:4 train loss: 0.2814763251103853              valid loss: 0.2593434386783176 valid accuracy: 0.8517676724327935 \n"
          ]
        },
        {
          "output_type": "stream",
          "name": "stderr",
          "text": [
            "100%|██████████| 39/39 [00:25<00:00,  1.55it/s]\n",
            "100%|██████████| 10/10 [00:05<00:00,  1.82it/s]\n"
          ]
        },
        {
          "output_type": "stream",
          "name": "stdout",
          "text": [
            "Epoch:5 train loss: 0.2714732493224897              valid loss: 0.24069984753926596 valid accuracy: 0.8704112635718452 \n"
          ]
        },
        {
          "output_type": "stream",
          "name": "stderr",
          "text": [
            "100%|██████████| 39/39 [00:25<00:00,  1.51it/s]\n",
            "100%|██████████| 10/10 [00:05<00:00,  1.93it/s]\n"
          ]
        },
        {
          "output_type": "stream",
          "name": "stdout",
          "text": [
            "Epoch:6 train loss: 0.27274407367957265              valid loss: 0.31244587898254395 valid accuracy: 0.7986652321285672 \n"
          ]
        },
        {
          "output_type": "stream",
          "name": "stderr",
          "text": [
            "100%|██████████| 39/39 [00:25<00:00,  1.53it/s]\n",
            "100%|██████████| 10/10 [00:05<00:00,  1.74it/s]\n"
          ]
        },
        {
          "output_type": "stream",
          "name": "stdout",
          "text": [
            "Epoch:7 train loss: 0.2695093578413913              valid loss: 0.27997686465581256 valid accuracy: 0.8311342464552985 \n"
          ]
        },
        {
          "output_type": "stream",
          "name": "stderr",
          "text": [
            "100%|██████████| 39/39 [00:25<00:00,  1.53it/s]\n",
            "100%|██████████| 10/10 [00:05<00:00,  1.76it/s]\n"
          ]
        },
        {
          "output_type": "stream",
          "name": "stdout",
          "text": [
            "Epoch:8 train loss: 0.2772347566328551              valid loss: 0.4319107598728604 valid accuracy: 0.6792003512382507 \n"
          ]
        },
        {
          "output_type": "stream",
          "name": "stderr",
          "text": [
            "100%|██████████| 39/39 [00:25<00:00,  1.53it/s]\n",
            "100%|██████████| 10/10 [00:05<00:00,  1.92it/s]\n"
          ]
        },
        {
          "output_type": "stream",
          "name": "stdout",
          "text": [
            "Epoch:9 train loss: 0.27275004669239644              valid loss: 0.30695317851172554 valid accuracy: 0.8041579325993856 \n"
          ]
        },
        {
          "output_type": "stream",
          "name": "stderr",
          "text": [
            "100%|██████████| 39/39 [00:25<00:00,  1.50it/s]\n",
            "100%|██████████| 10/10 [00:05<00:00,  1.80it/s]\n"
          ]
        },
        {
          "output_type": "stream",
          "name": "stdout",
          "text": [
            "Epoch:10 train loss: 0.2575765267798775              valid loss: 0.2459941307703654 valid accuracy: 0.8651169803407457 \n"
          ]
        }
      ]
    },
    {
      "cell_type": "code",
      "source": [
        "plt.plot(train_loss,label='Training loss')\n",
        "plt.plot(test_loss, label='Valid loss')\n",
        "plt.legend(loc='upper left', title='Loss');"
      ],
      "metadata": {
        "execution": {
          "iopub.status.busy": "2023-05-02T12:10:40.661826Z",
          "iopub.status.idle": "2023-05-02T12:10:40.662195Z",
          "shell.execute_reply.started": "2023-05-02T12:10:40.662017Z",
          "shell.execute_reply": "2023-05-02T12:10:40.662034Z"
        },
        "trusted": true,
        "colab": {
          "base_uri": "https://localhost:8080/",
          "height": 430
        },
        "id": "326OwgqQ25gw",
        "outputId": "045c4227-b26b-43d2-8513-57ee7faebc6c"
      },
      "execution_count": null,
      "outputs": [
        {
          "output_type": "display_data",
          "data": {
            "text/plain": [
              "<Figure size 640x480 with 1 Axes>"
            ],
            "image/png": "[encoded data removed]"
          },
          "metadata": {}
        }
      ]
    },
    {
      "cell_type": "code",
      "source": [
        "plt.plot(train_loss,label='Training IOU')\n",
        "plt.plot(test_loss, label='Valid IOU')\n",
        "plt.legend(loc='upper left', title='IOU');"
      ],
      "metadata": {
        "colab": {
          "base_uri": "https://localhost:8080/",
          "height": 430
        },
        "id": "L2uXTPZUD9St",
        "execution": {
          "iopub.status.busy": "2023-05-02T12:10:40.663346Z",
          "iopub.status.idle": "2023-05-02T12:10:40.663720Z",
          "shell.execute_reply.started": "2023-05-02T12:10:40.663539Z",
          "shell.execute_reply": "2023-05-02T12:10:40.663557Z"
        },
        "trusted": true,
        "outputId": "d6090ed5-4b09-4a4c-b855-d65a6761e95b"
      },
      "execution_count": null,
      "outputs": [
        {
          "output_type": "display_data",
          "data": {
            "text/plain": [
              "<Figure size 640x480 with 1 Axes>"
            ],
            "image/png": "[encoded data removed]"
          },
          "metadata": {}
        }
      ]
    },
    {
      "cell_type": "code",
      "source": [
        "res = model(img.to(device))\n",
        "plt.imshow(np.hstack([mask[0].detach().cpu(), res[0].detach().cpu()]).swapaxes(0, 2))"
      ],
      "metadata": {
        "execution": {
          "iopub.status.busy": "2023-05-02T12:10:40.666662Z",
          "iopub.status.idle": "2023-05-02T12:10:40.667054Z",
          "shell.execute_reply.started": "2023-05-02T12:10:40.666863Z",
          "shell.execute_reply": "2023-05-02T12:10:40.666881Z"
        },
        "trusted": true,
        "colab": {
          "base_uri": "https://localhost:8080/",
          "height": 330
        },
        "id": "Ok4mWqTL25gz",
        "outputId": "f5791f6a-5d0e-4d5b-9dc0-d9b71ae65e7a"
      },
      "execution_count": null,
      "outputs": [
        {
          "output_type": "execute_result",
          "data": {
            "text/plain": [
              "<matplotlib.image.AxesImage at 0x7f38fb10dd80>"
            ]
          },
          "metadata": {},
          "execution_count": 19
        },
        {
          "output_type": "display_data",
          "data": {
            "text/plain": [
              "<Figure size 640x480 with 1 Axes>"
            ],
            "image/png": "[encoded data removed]"
          },
          "metadata": {}
        }
      ]
    },
    {
      "cell_type": "markdown",
      "source": [
        "### Getting the best model with highest accuracy"
      ],
      "metadata": {
        "id": "hd9Czuzy25g0"
      }
    },
    {
      "cell_type": "code",
      "source": [
        "from glob import glob\n",
        "files = glob(\"*.pth\")\n",
        "accs= []\n",
        "for f in files:\n",
        "  accs.append(f.split(\".\")[1])\n",
        "best_model_f = files[np.argmax(accs)]\n",
        "files.remove(best_model_f)\n",
        "for f in files:\n",
        "    os.remove(f)"
      ],
      "metadata": {
        "id": "7tQpXNlxyU1R"
      },
      "execution_count": null,
      "outputs": []
    },
    {
      "cell_type": "code",
      "source": [
        "best_model = torch.load(best_model_f).to(device)"
      ],
      "metadata": {
        "execution": {
          "iopub.status.busy": "2023-05-02T12:10:40.671896Z",
          "iopub.status.idle": "2023-05-02T12:10:40.672462Z",
          "shell.execute_reply.started": "2023-05-02T12:10:40.672180Z",
          "shell.execute_reply": "2023-05-02T12:10:40.672208Z"
        },
        "trusted": true,
        "id": "EoYohkp525g1"
      },
      "execution_count": null,
      "outputs": []
    },
    {
      "cell_type": "code",
      "source": [
        "for img, mask in test_dl:\n",
        "    break\n",
        "res = best_model(img.to(device))\n",
        "plt.imshow(np.hstack([mask[0].detach().cpu(), res[0].detach().cpu()]).swapaxes(0, 2))"
      ],
      "metadata": {
        "execution": {
          "iopub.status.busy": "2023-05-02T12:10:40.674113Z",
          "iopub.status.idle": "2023-05-02T12:10:40.674670Z",
          "shell.execute_reply.started": "2023-05-02T12:10:40.674387Z",
          "shell.execute_reply": "2023-05-02T12:10:40.674415Z"
        },
        "trusted": true,
        "id": "MYIECTTL25g2",
        "colab": {
          "base_uri": "https://localhost:8080/",
          "height": 385
        },
        "outputId": "608781e4-adcf-47fd-e21f-7449df12f59e"
      },
      "execution_count": null,
      "outputs": [
        {
          "output_type": "stream",
          "name": "stderr",
          "text": [
            "/usr/local/lib/python3.10/dist-packages/torchvision/transforms/functional.py:1603: UserWarning: The default value of the antialias parameter of all the resizing transforms (Resize(), RandomResizedCrop(), etc.) will change from None to True in v0.17, in order to be consistent across the PIL and Tensor backends. To suppress this warning, directly pass antialias=True (recommended, future default), antialias=None (current default, which means False for Tensors and True for PIL), or antialias=False (only works on Tensors - PIL will still use antialiasing). This also applies if you are using the inference transforms from the models weights: update the call to weights.transforms(antialias=True).\n",
            "  warnings.warn(\n"
          ]
        },
        {
          "output_type": "execute_result",
          "data": {
            "text/plain": [
              "<matplotlib.image.AxesImage at 0x7f38f57347c0>"
            ]
          },
          "metadata": {},
          "execution_count": 34
        },
        {
          "output_type": "display_data",
          "data": {
            "text/plain": [
              "<Figure size 640x480 with 1 Axes>"
            ],
            "image/png": "[encoded data removed]"
          },
          "metadata": {}
        }
      ]
    },
    {
      "cell_type": "markdown",
      "source": [
        "## Comparing with DeepLabV3+ and VIT\n"
      ],
      "metadata": {
        "id": "7rkYj8lO25g3"
      }
    },
    {
      "cell_type": "markdown",
      "source": [
        "# VIT"
      ],
      "metadata": {
        "id": "sKpSRaoW25g3"
      }
    },
    {
      "cell_type": "code",
      "source": [
        "import torch.nn.functional as F\n",
        "from torchvision.models import vit_b_16\n",
        "class ViTSegmentationModel(nn.Module):\n",
        "    def __init__(self, num_classes, image_size=224):\n",
        "        super(ViTSegmentationModel, self).__init__()\n",
        "\n",
        "        self.vit_backbone = vit_b_16(pretrained=True, image_size=image_size)\n",
        "\n",
        "        # Modify the classification head for segmentation\n",
        "        self.vit_backbone.heads = nn.Sequential(\n",
        "            nn.Linear(self.vit_backbone.heads[0].in_features, 1024),\n",
        "            nn.ReLU(),\n",
        "            # nn.Dropout(),\n",
        "            nn.Linear(1024, num_classes * image_size * image_size),\n",
        "        )\n",
        "\n",
        "        self.num_classes = num_classes\n",
        "        self.image_size = image_size\n",
        "\n",
        "    def forward(self, x):\n",
        "        # Extract features from backbone\n",
        "        features = self.vit_backbone(x)\n",
        "\n",
        "        # Reshape features for segmentation mask output\n",
        "        mask_logits = features.view(-1, self.num_classes, self.image_size, self.image_size)\n",
        "\n",
        "        # Apply softmax activation to generate probabilities\n",
        "        mask_probs = F.sigmoid(mask_logits)\n",
        "\n",
        "        return mask_probs\n",
        "vit = ViTSegmentationModel(1).to(device)"
      ],
      "metadata": {
        "execution": {
          "iopub.status.busy": "2023-05-02T12:10:40.676588Z",
          "iopub.status.idle": "2023-05-02T12:10:40.677345Z",
          "shell.execute_reply.started": "2023-05-02T12:10:40.677035Z",
          "shell.execute_reply": "2023-05-02T12:10:40.677073Z"
        },
        "trusted": true,
        "id": "IU_wkR8625g4",
        "colab": {
          "base_uri": "https://localhost:8080/"
        },
        "outputId": "a5ad7289-bb2b-46e5-bb8c-9843542f1f9d"
      },
      "execution_count": null,
      "outputs": [
        {
          "output_type": "stream",
          "name": "stderr",
          "text": [
            "/usr/local/lib/python3.10/dist-packages/torchvision/models/_utils.py:208: UserWarning: The parameter 'pretrained' is deprecated since 0.13 and may be removed in the future, please use 'weights' instead.\n",
            "  warnings.warn(\n",
            "/usr/local/lib/python3.10/dist-packages/torchvision/models/_utils.py:223: UserWarning: Arguments other than a weight enum or `None` for 'weights' are deprecated since 0.13 and may be removed in the future. The current behavior is equivalent to passing `weights=ViT_B_16_Weights.IMAGENET1K_V1`. You can also use `weights=ViT_B_16_Weights.DEFAULT` to get the most up-to-date weights.\n",
            "  warnings.warn(msg)\n",
            "Downloading: \"https://download.pytorch.org/models/vit_b_16-c867db91.pth\" to /root/.cache/torch/hub/checkpoints/vit_b_16-c867db91.pth\n",
            "100%|██████████| 330M/330M [00:04<00:00, 77.8MB/s]\n"
          ]
        }
      ]
    },
    {
      "cell_type": "code",
      "source": [
        "!pip install vit_pytorch"
      ],
      "metadata": {
        "id": "ZfEJzUK0IswD"
      },
      "execution_count": null,
      "outputs": []
    },
    {
      "cell_type": "code",
      "source": [
        "class MyViT(nn.Module):\n",
        "    def __init__(self, chw, n_patches=7, n_blocks=2, hidden_d=8, n_heads=2, out_d=1):\n",
        "        super(MyViT, self).__init__()\n",
        "\n",
        "        self.chw = chw\n",
        "        self.n_patches = n_patches\n",
        "        self.n_blocks = n_blocks\n",
        "        self.n_heads = n_heads\n",
        "        self.hidden_d = hidden_d\n",
        "        self.patch_size = (chw[1] // n_patches, chw[2] // n_patches)\n",
        "        self.input_d = chw[0] * self.patch_size[0] * self.patch_size[1]\n",
        "        self.linear_mapper = nn.Linear(self.input_d, self.hidden_d)\n",
        "        self.class_token = nn.Parameter(torch.rand(1, self.hidden_d))\n",
        "        self.register_buffer('positional_embeddings', get_positional_embeddings(n_patches ** 2 + 1, hidden_d), persistent=False)\n",
        "        self.blocks = nn.ModuleList([MyViTBlock(hidden_d, n_heads) for _ in range(n_blocks)])\n",
        "        self.mlp = nn.Linear(self.hidden_d, out_d)\n",
        "\n",
        "    def forward(self, images):\n",
        "        n, c, h, w = images.shape\n",
        "        patches = patchify(images, self.n_patches).to(self.positional_embeddings.device)\n",
        "        tokens = self.linear_mapper(patches)\n",
        "        tokens = torch.cat((self.class_token.expand(n, 1, -1), tokens), dim=1)\n",
        "        out = tokens + self.positional_embeddings.repeat(n, 1, 1)\n",
        "        for block in self.blocks:\n",
        "            out = block(out)\n",
        "        out = out[:, 0]\n",
        "        out = self.mlp(out)\n",
        "        return out\n",
        "\n",
        "model = MyViT((3, 224, 224), n_patches=7, n_blocks=2, hidden_d=8, n_heads=2, out_d=1).to(device)"
      ],
      "metadata": {
        "id": "olKomSdTHbgL"
      },
      "execution_count": null,
      "outputs": []
    },
    {
      "cell_type": "code",
      "source": [
        "model(img).shape"
      ],
      "metadata": {
        "colab": {
          "base_uri": "https://localhost:8080/",
          "height": 311
        },
        "id": "O-6JmyVipzyK",
        "outputId": "95ddac84-a8d1-4dd2-910c-dae7112208f3"
      },
      "execution_count": null,
      "outputs": [
        {
          "output_type": "error",
          "ename": "RuntimeError",
          "evalue": "ignored",
          "traceback": [
            "\u001b[0;31m---------------------------------------------------------------------------\u001b[0m",
            "\u001b[0;31mRuntimeError\u001b[0m                              Traceback (most recent call last)",
            "\u001b[0;32m<ipython-input-15-acd29133cde8>\u001b[0m in \u001b[0;36m<cell line: 1>\u001b[0;34m()\u001b[0m\n\u001b[0;32m----> 1\u001b[0;31m \u001b[0mmodel\u001b[0m\u001b[0;34m(\u001b[0m\u001b[0mimg\u001b[0m\u001b[0;34m)\u001b[0m\u001b[0;34m.\u001b[0m\u001b[0mshape\u001b[0m\u001b[0;34m\u001b[0m\u001b[0;34m\u001b[0m\u001b[0m\n\u001b[0m",
            "\u001b[0;32m/usr/local/lib/python3.10/dist-packages/torch/nn/modules/module.py\u001b[0m in \u001b[0;36m_call_impl\u001b[0;34m(self, *args, **kwargs)\u001b[0m\n\u001b[1;32m   1499\u001b[0m                 \u001b[0;32mor\u001b[0m \u001b[0m_global_backward_pre_hooks\u001b[0m \u001b[0;32mor\u001b[0m \u001b[0m_global_backward_hooks\u001b[0m\u001b[0;34m\u001b[0m\u001b[0;34m\u001b[0m\u001b[0m\n\u001b[1;32m   1500\u001b[0m                 or _global_forward_hooks or _global_forward_pre_hooks):\n\u001b[0;32m-> 1501\u001b[0;31m             \u001b[0;32mreturn\u001b[0m \u001b[0mforward_call\u001b[0m\u001b[0;34m(\u001b[0m\u001b[0;34m*\u001b[0m\u001b[0margs\u001b[0m\u001b[0;34m,\u001b[0m \u001b[0;34m**\u001b[0m\u001b[0mkwargs\u001b[0m\u001b[0;34m)\u001b[0m\u001b[0;34m\u001b[0m\u001b[0;34m\u001b[0m\u001b[0m\n\u001b[0m\u001b[1;32m   1502\u001b[0m         \u001b[0;31m# Do not call functions when jit is used\u001b[0m\u001b[0;34m\u001b[0m\u001b[0;34m\u001b[0m\u001b[0m\n\u001b[1;32m   1503\u001b[0m         \u001b[0mfull_backward_hooks\u001b[0m\u001b[0;34m,\u001b[0m \u001b[0mnon_full_backward_hooks\u001b[0m \u001b[0;34m=\u001b[0m \u001b[0;34m[\u001b[0m\u001b[0;34m]\u001b[0m\u001b[0;34m,\u001b[0m \u001b[0;34m[\u001b[0m\u001b[0;34m]\u001b[0m\u001b[0;34m\u001b[0m\u001b[0;34m\u001b[0m\u001b[0m\n",
            "\u001b[0;32m<ipython-input-8-c569a6f28b57>\u001b[0m in \u001b[0;36mforward\u001b[0;34m(self, x)\u001b[0m\n\u001b[1;32m     20\u001b[0m     \u001b[0;32mdef\u001b[0m \u001b[0mforward\u001b[0m\u001b[0;34m(\u001b[0m\u001b[0mself\u001b[0m\u001b[0;34m,\u001b[0m \u001b[0mx\u001b[0m\u001b[0;34m)\u001b[0m\u001b[0;34m:\u001b[0m\u001b[0;34m\u001b[0m\u001b[0;34m\u001b[0m\u001b[0m\n\u001b[1;32m     21\u001b[0m         \u001b[0;31m# Extract features from backbone\u001b[0m\u001b[0;34m\u001b[0m\u001b[0;34m\u001b[0m\u001b[0m\n\u001b[0;32m---> 22\u001b[0;31m         \u001b[0mfeatures\u001b[0m \u001b[0;34m=\u001b[0m \u001b[0mself\u001b[0m\u001b[0;34m.\u001b[0m\u001b[0mvit_backbone\u001b[0m\u001b[0;34m(\u001b[0m\u001b[0mx\u001b[0m\u001b[0;34m)\u001b[0m\u001b[0;34m\u001b[0m\u001b[0;34m\u001b[0m\u001b[0m\n\u001b[0m\u001b[1;32m     23\u001b[0m \u001b[0;34m\u001b[0m\u001b[0m\n\u001b[1;32m     24\u001b[0m         \u001b[0;31m# Reshape features for segmentation mask output\u001b[0m\u001b[0;34m\u001b[0m\u001b[0;34m\u001b[0m\u001b[0m\n",
            "\u001b[0;32m/usr/local/lib/python3.10/dist-packages/torch/nn/modules/module.py\u001b[0m in \u001b[0;36m_call_impl\u001b[0;34m(self, *args, **kwargs)\u001b[0m\n\u001b[1;32m   1499\u001b[0m                 \u001b[0;32mor\u001b[0m \u001b[0m_global_backward_pre_hooks\u001b[0m \u001b[0;32mor\u001b[0m \u001b[0m_global_backward_hooks\u001b[0m\u001b[0;34m\u001b[0m\u001b[0;34m\u001b[0m\u001b[0m\n\u001b[1;32m   1500\u001b[0m                 or _global_forward_hooks or _global_forward_pre_hooks):\n\u001b[0;32m-> 1501\u001b[0;31m             \u001b[0;32mreturn\u001b[0m \u001b[0mforward_call\u001b[0m\u001b[0;34m(\u001b[0m\u001b[0;34m*\u001b[0m\u001b[0margs\u001b[0m\u001b[0;34m,\u001b[0m \u001b[0;34m**\u001b[0m\u001b[0mkwargs\u001b[0m\u001b[0;34m)\u001b[0m\u001b[0;34m\u001b[0m\u001b[0;34m\u001b[0m\u001b[0m\n\u001b[0m\u001b[1;32m   1502\u001b[0m         \u001b[0;31m# Do not call functions when jit is used\u001b[0m\u001b[0;34m\u001b[0m\u001b[0;34m\u001b[0m\u001b[0m\n\u001b[1;32m   1503\u001b[0m         \u001b[0mfull_backward_hooks\u001b[0m\u001b[0;34m,\u001b[0m \u001b[0mnon_full_backward_hooks\u001b[0m \u001b[0;34m=\u001b[0m \u001b[0;34m[\u001b[0m\u001b[0;34m]\u001b[0m\u001b[0;34m,\u001b[0m \u001b[0;34m[\u001b[0m\u001b[0;34m]\u001b[0m\u001b[0;34m\u001b[0m\u001b[0;34m\u001b[0m\u001b[0m\n",
            "\u001b[0;32m/usr/local/lib/python3.10/dist-packages/torchvision/models/vision_transformer.py\u001b[0m in \u001b[0;36mforward\u001b[0;34m(self, x)\u001b[0m\n\u001b[1;32m    289\u001b[0m     \u001b[0;32mdef\u001b[0m \u001b[0mforward\u001b[0m\u001b[0;34m(\u001b[0m\u001b[0mself\u001b[0m\u001b[0;34m,\u001b[0m \u001b[0mx\u001b[0m\u001b[0;34m:\u001b[0m \u001b[0mtorch\u001b[0m\u001b[0;34m.\u001b[0m\u001b[0mTensor\u001b[0m\u001b[0;34m)\u001b[0m\u001b[0;34m:\u001b[0m\u001b[0;34m\u001b[0m\u001b[0;34m\u001b[0m\u001b[0m\n\u001b[1;32m    290\u001b[0m         \u001b[0;31m# Reshape and permute the input tensor\u001b[0m\u001b[0;34m\u001b[0m\u001b[0;34m\u001b[0m\u001b[0m\n\u001b[0;32m--> 291\u001b[0;31m         \u001b[0mx\u001b[0m \u001b[0;34m=\u001b[0m \u001b[0mself\u001b[0m\u001b[0;34m.\u001b[0m\u001b[0m_process_input\u001b[0m\u001b[0;34m(\u001b[0m\u001b[0mx\u001b[0m\u001b[0;34m)\u001b[0m\u001b[0;34m\u001b[0m\u001b[0;34m\u001b[0m\u001b[0m\n\u001b[0m\u001b[1;32m    292\u001b[0m         \u001b[0mn\u001b[0m \u001b[0;34m=\u001b[0m \u001b[0mx\u001b[0m\u001b[0;34m.\u001b[0m\u001b[0mshape\u001b[0m\u001b[0;34m[\u001b[0m\u001b[0;36m0\u001b[0m\u001b[0;34m]\u001b[0m\u001b[0;34m\u001b[0m\u001b[0;34m\u001b[0m\u001b[0m\n\u001b[1;32m    293\u001b[0m \u001b[0;34m\u001b[0m\u001b[0m\n",
            "\u001b[0;32m/usr/local/lib/python3.10/dist-packages/torchvision/models/vision_transformer.py\u001b[0m in \u001b[0;36m_process_input\u001b[0;34m(self, x)\u001b[0m\n\u001b[1;32m    275\u001b[0m \u001b[0;34m\u001b[0m\u001b[0m\n\u001b[1;32m    276\u001b[0m         \u001b[0;31m# (n, c, h, w) -> (n, hidden_dim, n_h, n_w)\u001b[0m\u001b[0;34m\u001b[0m\u001b[0;34m\u001b[0m\u001b[0m\n\u001b[0;32m--> 277\u001b[0;31m         \u001b[0mx\u001b[0m \u001b[0;34m=\u001b[0m \u001b[0mself\u001b[0m\u001b[0;34m.\u001b[0m\u001b[0mconv_proj\u001b[0m\u001b[0;34m(\u001b[0m\u001b[0mx\u001b[0m\u001b[0;34m)\u001b[0m\u001b[0;34m\u001b[0m\u001b[0;34m\u001b[0m\u001b[0m\n\u001b[0m\u001b[1;32m    278\u001b[0m         \u001b[0;31m# (n, hidden_dim, n_h, n_w) -> (n, hidden_dim, (n_h * n_w))\u001b[0m\u001b[0;34m\u001b[0m\u001b[0;34m\u001b[0m\u001b[0m\n\u001b[1;32m    279\u001b[0m         \u001b[0mx\u001b[0m \u001b[0;34m=\u001b[0m \u001b[0mx\u001b[0m\u001b[0;34m.\u001b[0m\u001b[0mreshape\u001b[0m\u001b[0;34m(\u001b[0m\u001b[0mn\u001b[0m\u001b[0;34m,\u001b[0m \u001b[0mself\u001b[0m\u001b[0;34m.\u001b[0m\u001b[0mhidden_dim\u001b[0m\u001b[0;34m,\u001b[0m \u001b[0mn_h\u001b[0m \u001b[0;34m*\u001b[0m \u001b[0mn_w\u001b[0m\u001b[0;34m)\u001b[0m\u001b[0;34m\u001b[0m\u001b[0;34m\u001b[0m\u001b[0m\n",
            "\u001b[0;32m/usr/local/lib/python3.10/dist-packages/torch/nn/modules/module.py\u001b[0m in \u001b[0;36m_call_impl\u001b[0;34m(self, *args, **kwargs)\u001b[0m\n\u001b[1;32m   1499\u001b[0m                 \u001b[0;32mor\u001b[0m \u001b[0m_global_backward_pre_hooks\u001b[0m \u001b[0;32mor\u001b[0m \u001b[0m_global_backward_hooks\u001b[0m\u001b[0;34m\u001b[0m\u001b[0;34m\u001b[0m\u001b[0m\n\u001b[1;32m   1500\u001b[0m                 or _global_forward_hooks or _global_forward_pre_hooks):\n\u001b[0;32m-> 1501\u001b[0;31m             \u001b[0;32mreturn\u001b[0m \u001b[0mforward_call\u001b[0m\u001b[0;34m(\u001b[0m\u001b[0;34m*\u001b[0m\u001b[0margs\u001b[0m\u001b[0;34m,\u001b[0m \u001b[0;34m**\u001b[0m\u001b[0mkwargs\u001b[0m\u001b[0;34m)\u001b[0m\u001b[0;34m\u001b[0m\u001b[0;34m\u001b[0m\u001b[0m\n\u001b[0m\u001b[1;32m   1502\u001b[0m         \u001b[0;31m# Do not call functions when jit is used\u001b[0m\u001b[0;34m\u001b[0m\u001b[0;34m\u001b[0m\u001b[0m\n\u001b[1;32m   1503\u001b[0m         \u001b[0mfull_backward_hooks\u001b[0m\u001b[0;34m,\u001b[0m \u001b[0mnon_full_backward_hooks\u001b[0m \u001b[0;34m=\u001b[0m \u001b[0;34m[\u001b[0m\u001b[0;34m]\u001b[0m\u001b[0;34m,\u001b[0m \u001b[0;34m[\u001b[0m\u001b[0;34m]\u001b[0m\u001b[0;34m\u001b[0m\u001b[0;34m\u001b[0m\u001b[0m\n",
            "\u001b[0;32m/usr/local/lib/python3.10/dist-packages/torch/nn/modules/conv.py\u001b[0m in \u001b[0;36mforward\u001b[0;34m(self, input)\u001b[0m\n\u001b[1;32m    461\u001b[0m \u001b[0;34m\u001b[0m\u001b[0m\n\u001b[1;32m    462\u001b[0m     \u001b[0;32mdef\u001b[0m \u001b[0mforward\u001b[0m\u001b[0;34m(\u001b[0m\u001b[0mself\u001b[0m\u001b[0;34m,\u001b[0m \u001b[0minput\u001b[0m\u001b[0;34m:\u001b[0m \u001b[0mTensor\u001b[0m\u001b[0;34m)\u001b[0m \u001b[0;34m->\u001b[0m \u001b[0mTensor\u001b[0m\u001b[0;34m:\u001b[0m\u001b[0;34m\u001b[0m\u001b[0;34m\u001b[0m\u001b[0m\n\u001b[0;32m--> 463\u001b[0;31m         \u001b[0;32mreturn\u001b[0m \u001b[0mself\u001b[0m\u001b[0;34m.\u001b[0m\u001b[0m_conv_forward\u001b[0m\u001b[0;34m(\u001b[0m\u001b[0minput\u001b[0m\u001b[0;34m,\u001b[0m \u001b[0mself\u001b[0m\u001b[0;34m.\u001b[0m\u001b[0mweight\u001b[0m\u001b[0;34m,\u001b[0m \u001b[0mself\u001b[0m\u001b[0;34m.\u001b[0m\u001b[0mbias\u001b[0m\u001b[0;34m)\u001b[0m\u001b[0;34m\u001b[0m\u001b[0;34m\u001b[0m\u001b[0m\n\u001b[0m\u001b[1;32m    464\u001b[0m \u001b[0;34m\u001b[0m\u001b[0m\n\u001b[1;32m    465\u001b[0m \u001b[0;32mclass\u001b[0m \u001b[0mConv3d\u001b[0m\u001b[0;34m(\u001b[0m\u001b[0m_ConvNd\u001b[0m\u001b[0;34m)\u001b[0m\u001b[0;34m:\u001b[0m\u001b[0;34m\u001b[0m\u001b[0;34m\u001b[0m\u001b[0m\n",
            "\u001b[0;32m/usr/local/lib/python3.10/dist-packages/torch/nn/modules/conv.py\u001b[0m in \u001b[0;36m_conv_forward\u001b[0;34m(self, input, weight, bias)\u001b[0m\n\u001b[1;32m    457\u001b[0m                             \u001b[0mweight\u001b[0m\u001b[0;34m,\u001b[0m \u001b[0mbias\u001b[0m\u001b[0;34m,\u001b[0m \u001b[0mself\u001b[0m\u001b[0;34m.\u001b[0m\u001b[0mstride\u001b[0m\u001b[0;34m,\u001b[0m\u001b[0;34m\u001b[0m\u001b[0;34m\u001b[0m\u001b[0m\n\u001b[1;32m    458\u001b[0m                             _pair(0), self.dilation, self.groups)\n\u001b[0;32m--> 459\u001b[0;31m         return F.conv2d(input, weight, bias, self.stride,\n\u001b[0m\u001b[1;32m    460\u001b[0m                         self.padding, self.dilation, self.groups)\n\u001b[1;32m    461\u001b[0m \u001b[0;34m\u001b[0m\u001b[0m\n",
            "\u001b[0;31mRuntimeError\u001b[0m: Input type (torch.FloatTensor) and weight type (torch.cuda.FloatTensor) should be the same or input should be a MKLDNN tensor and weight is a dense tensor"
          ]
        }
      ]
    },
    {
      "cell_type": "markdown",
      "source": [
        "## Training VIT Segmentation model"
      ],
      "metadata": {
        "id": "XwqGA_tWdwEX"
      }
    },
    {
      "cell_type": "code",
      "source": [
        "lr = 0.03\n",
        "criterion = nn.CrossEntropyLoss()\n",
        "optimizer = optim.Adam(vit.parameters(), lr=lr)\n",
        "scheduler = optim.lr_scheduler.StepLR(optimizer, step_size=3, gamma=0.01)\n"
      ],
      "metadata": {
        "id": "GOq-1qZYv4Ae"
      },
      "execution_count": null,
      "outputs": []
    },
    {
      "cell_type": "code",
      "source": [
        "model, train_loss, test_loss, train_iou, test_iou = train_model(vit, train_dl,\n",
        "                                    test_dl, epochs=num_epochs, loss_fn = ce_loss, learning_rate=lr)\n",
        "accuracies[\"VIT\"] = np.mean(test_iou)"
      ],
      "metadata": {
        "execution": {
          "iopub.status.busy": "2023-05-02T12:10:40.679111Z",
          "iopub.status.idle": "2023-05-02T12:10:40.679662Z",
          "shell.execute_reply.started": "2023-05-02T12:10:40.679374Z",
          "shell.execute_reply": "2023-05-02T12:10:40.679400Z"
        },
        "trusted": true,
        "colab": {
          "base_uri": "https://localhost:8080/"
        },
        "id": "2qOtq90625g5",
        "outputId": "23cac7bd-5240-4058-aae4-77f543638b73"
      },
      "execution_count": null,
      "outputs": [
        {
          "output_type": "stream",
          "name": "stderr",
          "text": [
            "\r  0%|          | 0/39 [00:00<?, ?it/s]/usr/local/lib/python3.10/dist-packages/torchvision/transforms/functional.py:1603: UserWarning: The default value of the antialias parameter of all the resizing transforms (Resize(), RandomResizedCrop(), etc.) will change from None to True in v0.17, in order to be consistent across the PIL and Tensor backends. To suppress this warning, directly pass antialias=True (recommended, future default), antialias=None (current default, which means False for Tensors and True for PIL), or antialias=False (only works on Tensors - PIL will still use antialiasing). This also applies if you are using the inference transforms from the models weights: update the call to weights.transforms(antialias=True).\n",
            "  warnings.warn(\n",
            "100%|██████████| 39/39 [00:19<00:00,  1.98it/s]\n",
            "100%|██████████| 10/10 [00:03<00:00,  2.52it/s]\n"
          ]
        },
        {
          "output_type": "stream",
          "name": "stdout",
          "text": [
            "Epoch:1 train loss: nan              valid loss: nan valid accuracy: nan \n"
          ]
        },
        {
          "output_type": "stream",
          "name": "stderr",
          "text": [
            " 56%|█████▋    | 22/39 [00:09<00:07,  2.28it/s]\n"
          ]
        }
      ]
    },
    {
      "cell_type": "markdown",
      "source": [
        "# VIT from scratch"
      ],
      "metadata": {
        "id": "LWDQO-qJd41c"
      }
    },
    {
      "cell_type": "code",
      "source": [
        "\n",
        "def get_positional_embeddings(sequence_length, d):\n",
        "    result = torch.ones(sequence_length, d)\n",
        "    for i in range(sequence_length):\n",
        "        for j in range(d):\n",
        "            result[i][j] = np.sin(i / (10000 ** (j / d))) if j % 2 == 0 else np.cos(i / (10000 ** ((j - 1) / d)))\n",
        "    return result\n",
        "\n",
        "def patchify(images, n_patches):\n",
        "    n, c, h, w = images.shape\n",
        "\n",
        "    assert h == w, \"Patchify method is implemented for square images only\"\n",
        "\n",
        "    patches = torch.zeros(n, n_patches ** 2, h * w * c // n_patches ** 2)\n",
        "    patch_size = h // n_patches\n",
        "\n",
        "    for idx, image in enumerate(images):\n",
        "        for i in range(n_patches):\n",
        "            for j in range(n_patches):\n",
        "                patch = image[:, i * patch_size: (i + 1) * patch_size, j * patch_size: (j + 1) * patch_size]\n",
        "                patches[idx, i * n_patches + j] = patch.flatten()\n",
        "    return patches\n",
        "class MyMSA(nn.Module):\n",
        "    def __init__(self, d, n_heads=2):\n",
        "        super(MyMSA, self).__init__()\n",
        "        self.d = d\n",
        "        self.n_heads = n_heads\n",
        "\n",
        "        assert d % n_heads == 0, f\"Can't divide dimension {d} into {n_heads} heads\"\n",
        "\n",
        "        d_head = int(d / n_heads)\n",
        "        self.q_mappings = nn.ModuleList([nn.Linear(d_head, d_head) for _ in range(self.n_heads)])\n",
        "        self.k_mappings = nn.ModuleList([nn.Linear(d_head, d_head) for _ in range(self.n_heads)])\n",
        "        self.v_mappings = nn.ModuleList([nn.Linear(d_head, d_head) for _ in range(self.n_heads)])\n",
        "        self.d_head = d_head\n",
        "        self.softmax = nn.Softmax(dim=-1)\n",
        "\n",
        "    def forward(self, sequences):\n",
        "        # Sequences has shape (N, seq_length, token_dim)\n",
        "        # We go into shape    (N, seq_length, n_heads, token_dim / n_heads)\n",
        "        # And come back to    (N, seq_length, item_dim)  (through concatenation)\n",
        "        result = []\n",
        "        for sequence in sequences:\n",
        "            seq_result = []\n",
        "            for head in range(self.n_heads):\n",
        "                q_mapping = self.q_mappings[head]\n",
        "                k_mapping = self.k_mappings[head]\n",
        "                v_mapping = self.v_mappings[head]\n",
        "\n",
        "                seq = sequence[:, head * self.d_head: (head + 1) * self.d_head]\n",
        "                q, k, v = q_mapping(seq), k_mapping(seq), v_mapping(seq)\n",
        "\n",
        "                attention = self.softmax(q @ k.T / (self.d_head ** 0.5))\n",
        "                seq_result.append(attention @ v)\n",
        "            result.append(torch.hstack(seq_result))\n",
        "        return torch.cat([torch.unsqueeze(r, dim=0) for r in result])\n",
        "class MyViTBlock(nn.Module):\n",
        "    def __init__(self, hidden_d, n_heads, mlp_ratio=4):\n",
        "        super(MyViTBlock, self).__init__()\n",
        "        self.hidden_d = hidden_d\n",
        "        self.n_heads = n_heads\n",
        "\n",
        "        self.norm1 = nn.LayerNorm(hidden_d)\n",
        "        self.mhsa = MyMSA(hidden_d, n_heads)\n",
        "        self.norm2 = nn.LayerNorm(hidden_d)\n",
        "        self.mlp = nn.Sequential(\n",
        "            nn.Linear(hidden_d, mlp_ratio * hidden_d),\n",
        "            nn.GELU(),\n",
        "            nn.Linear(mlp_ratio * hidden_d, hidden_d)\n",
        "        )\n",
        "\n",
        "    def forward(self, x):\n",
        "        out = x + self.mhsa(self.norm1(x))\n",
        "        out = out + self.mlp(self.norm2(out))\n",
        "        return out\n",
        "class MyViT(nn.Module):\n",
        "    def __init__(self, chw, n_patches=7, n_blocks=2, hidden_d=8, n_heads=2, out_d=10):\n",
        "        # Super constructor\n",
        "        super(MyViT, self).__init__()\n",
        "\n",
        "        # Attributes\n",
        "        self.chw = chw # ( C , H , W )\n",
        "        self.n_patches = n_patches\n",
        "        self.n_blocks = n_blocks\n",
        "        self.n_heads = n_heads\n",
        "        self.hidden_d = hidden_d\n",
        "\n",
        "        # Input and patches sizes\n",
        "        assert chw[1] % n_patches == 0, \"Input shape not entirely divisible by number of patches\"\n",
        "        assert chw[2] % n_patches == 0, \"Input shape not entirely divisible by number of patches\"\n",
        "        self.patch_size = (chw[1] / n_patches, chw[2] / n_patches)\n",
        "\n",
        "        # 1) Linear mapper\n",
        "        self.input_d = int(chw[0] * self.patch_size[0] * self.patch_size[1])\n",
        "        self.linear_mapper = nn.Linear(self.input_d, self.hidden_d)\n",
        "\n",
        "        # 2) Learnable classification token\n",
        "        self.class_token = nn.Parameter(torch.rand(1, self.hidden_d))\n",
        "\n",
        "        # 3) Positional embedding\n",
        "        self.register_buffer('positional_embeddings', get_positional_embeddings(n_patches ** 2 + 1, hidden_d), persistent=False)\n",
        "\n",
        "        # 4) Transformer encoder blocks\n",
        "        self.blocks = nn.ModuleList([MyViTBlock(hidden_d, n_heads) for _ in range(n_blocks)])\n",
        "\n",
        "        # 5) Classification MLPk\n",
        "        self.mlp = nn.Sequential(\n",
        "            nn.Linear(self.hidden_d, out_d),\n",
        "            nn.Softmax(dim=-1)\n",
        "        )\n",
        "        # self.segment_out = nn.Conv2d(1, 1, kernel_size=3, padding = 1)\n",
        "\n",
        "\n",
        "    def forward(self, images):\n",
        "        # Dividing images into patches\n",
        "        n, c, h, w = images.shape\n",
        "        patches = patchify(images, self.n_patches).to(self.positional_embeddings.device)\n",
        "\n",
        "        # Running linear layer tokenization\n",
        "        # Map the vector corresponding to each patch to the hidden size dimension\n",
        "        tokens = self.linear_mapper(patches)\n",
        "\n",
        "        # Adding classification token to the tokens\n",
        "        tokens = torch.cat((self.class_token.expand(n, 1, -1), tokens), dim=1)\n",
        "\n",
        "        # Adding positional embedding\n",
        "        out = tokens + self.positional_embeddings.repeat(n, 1, 1)\n",
        "\n",
        "        # Transformer Blocks\n",
        "        for block in self.blocks:\n",
        "            out = block(out)\n",
        "\n",
        "        # Getting the classification token only\n",
        "        out = out[:, 0]\n",
        "        out = self.mlp(out)\n",
        "        # out = self.segment_out(out)\n",
        "\n",
        "        return  out\n",
        "model = MyViT((3, 224, 224), n_patches=7, n_blocks=2, hidden_d=8, n_heads=2, out_d=224*224).to(device)"
      ],
      "metadata": {
        "id": "P5I3f8Bkd7jx"
      },
      "execution_count": null,
      "outputs": []
    },
    {
      "cell_type": "code",
      "source": [
        "model(img).shape"
      ],
      "metadata": {
        "colab": {
          "base_uri": "https://localhost:8080/",
          "height": 311
        },
        "id": "2CFPjopFfMQ5",
        "outputId": "2dae956c-e882-4b7a-b75b-348d1311a797"
      },
      "execution_count": null,
      "outputs": [
        {
          "output_type": "error",
          "ename": "RuntimeError",
          "evalue": "ignored",
          "traceback": [
            "\u001b[0;31m---------------------------------------------------------------------------\u001b[0m",
            "\u001b[0;31mRuntimeError\u001b[0m                              Traceback (most recent call last)",
            "\u001b[0;32m<ipython-input-75-acd29133cde8>\u001b[0m in \u001b[0;36m<cell line: 1>\u001b[0;34m()\u001b[0m\n\u001b[0;32m----> 1\u001b[0;31m \u001b[0mmodel\u001b[0m\u001b[0;34m(\u001b[0m\u001b[0mimg\u001b[0m\u001b[0;34m)\u001b[0m\u001b[0;34m.\u001b[0m\u001b[0mshape\u001b[0m\u001b[0;34m\u001b[0m\u001b[0;34m\u001b[0m\u001b[0m\n\u001b[0m",
            "\u001b[0;32m/usr/local/lib/python3.10/dist-packages/torch/nn/modules/module.py\u001b[0m in \u001b[0;36m_call_impl\u001b[0;34m(self, *args, **kwargs)\u001b[0m\n\u001b[1;32m   1499\u001b[0m                 \u001b[0;32mor\u001b[0m \u001b[0m_global_backward_pre_hooks\u001b[0m \u001b[0;32mor\u001b[0m \u001b[0m_global_backward_hooks\u001b[0m\u001b[0;34m\u001b[0m\u001b[0;34m\u001b[0m\u001b[0m\n\u001b[1;32m   1500\u001b[0m                 or _global_forward_hooks or _global_forward_pre_hooks):\n\u001b[0;32m-> 1501\u001b[0;31m             \u001b[0;32mreturn\u001b[0m \u001b[0mforward_call\u001b[0m\u001b[0;34m(\u001b[0m\u001b[0;34m*\u001b[0m\u001b[0margs\u001b[0m\u001b[0;34m,\u001b[0m \u001b[0;34m**\u001b[0m\u001b[0mkwargs\u001b[0m\u001b[0;34m)\u001b[0m\u001b[0;34m\u001b[0m\u001b[0;34m\u001b[0m\u001b[0m\n\u001b[0m\u001b[1;32m   1502\u001b[0m         \u001b[0;31m# Do not call functions when jit is used\u001b[0m\u001b[0;34m\u001b[0m\u001b[0;34m\u001b[0m\u001b[0m\n\u001b[1;32m   1503\u001b[0m         \u001b[0mfull_backward_hooks\u001b[0m\u001b[0;34m,\u001b[0m \u001b[0mnon_full_backward_hooks\u001b[0m \u001b[0;34m=\u001b[0m \u001b[0;34m[\u001b[0m\u001b[0;34m]\u001b[0m\u001b[0;34m,\u001b[0m \u001b[0;34m[\u001b[0m\u001b[0;34m]\u001b[0m\u001b[0;34m\u001b[0m\u001b[0;34m\u001b[0m\u001b[0m\n",
            "\u001b[0;32m<ipython-input-74-e9ee5a0ce8b3>\u001b[0m in \u001b[0;36mforward\u001b[0;34m(self, images)\u001b[0m\n\u001b[1;32m    133\u001b[0m         \u001b[0mout\u001b[0m \u001b[0;34m=\u001b[0m \u001b[0mout\u001b[0m\u001b[0;34m[\u001b[0m\u001b[0;34m:\u001b[0m\u001b[0;34m,\u001b[0m \u001b[0;36m0\u001b[0m\u001b[0;34m]\u001b[0m\u001b[0;34m\u001b[0m\u001b[0;34m\u001b[0m\u001b[0m\n\u001b[1;32m    134\u001b[0m         \u001b[0mout\u001b[0m \u001b[0;34m=\u001b[0m \u001b[0mself\u001b[0m\u001b[0;34m.\u001b[0m\u001b[0mmlp\u001b[0m\u001b[0;34m(\u001b[0m\u001b[0mout\u001b[0m\u001b[0;34m)\u001b[0m\u001b[0;34m\u001b[0m\u001b[0;34m\u001b[0m\u001b[0m\n\u001b[0;32m--> 135\u001b[0;31m         \u001b[0mout\u001b[0m \u001b[0;34m=\u001b[0m \u001b[0mself\u001b[0m\u001b[0;34m.\u001b[0m\u001b[0msegment_out\u001b[0m\u001b[0;34m(\u001b[0m\u001b[0mout\u001b[0m\u001b[0;34m)\u001b[0m\u001b[0;34m\u001b[0m\u001b[0;34m\u001b[0m\u001b[0m\n\u001b[0m\u001b[1;32m    136\u001b[0m \u001b[0;34m\u001b[0m\u001b[0m\n\u001b[1;32m    137\u001b[0m         \u001b[0;32mreturn\u001b[0m  \u001b[0mout\u001b[0m\u001b[0;34m\u001b[0m\u001b[0;34m\u001b[0m\u001b[0m\n",
            "\u001b[0;32m/usr/local/lib/python3.10/dist-packages/torch/nn/modules/module.py\u001b[0m in \u001b[0;36m_call_impl\u001b[0;34m(self, *args, **kwargs)\u001b[0m\n\u001b[1;32m   1499\u001b[0m                 \u001b[0;32mor\u001b[0m \u001b[0m_global_backward_pre_hooks\u001b[0m \u001b[0;32mor\u001b[0m \u001b[0m_global_backward_hooks\u001b[0m\u001b[0;34m\u001b[0m\u001b[0;34m\u001b[0m\u001b[0m\n\u001b[1;32m   1500\u001b[0m                 or _global_forward_hooks or _global_forward_pre_hooks):\n\u001b[0;32m-> 1501\u001b[0;31m             \u001b[0;32mreturn\u001b[0m \u001b[0mforward_call\u001b[0m\u001b[0;34m(\u001b[0m\u001b[0;34m*\u001b[0m\u001b[0margs\u001b[0m\u001b[0;34m,\u001b[0m \u001b[0;34m**\u001b[0m\u001b[0mkwargs\u001b[0m\u001b[0;34m)\u001b[0m\u001b[0;34m\u001b[0m\u001b[0;34m\u001b[0m\u001b[0m\n\u001b[0m\u001b[1;32m   1502\u001b[0m         \u001b[0;31m# Do not call functions when jit is used\u001b[0m\u001b[0;34m\u001b[0m\u001b[0;34m\u001b[0m\u001b[0m\n\u001b[1;32m   1503\u001b[0m         \u001b[0mfull_backward_hooks\u001b[0m\u001b[0;34m,\u001b[0m \u001b[0mnon_full_backward_hooks\u001b[0m \u001b[0;34m=\u001b[0m \u001b[0;34m[\u001b[0m\u001b[0;34m]\u001b[0m\u001b[0;34m,\u001b[0m \u001b[0;34m[\u001b[0m\u001b[0;34m]\u001b[0m\u001b[0;34m\u001b[0m\u001b[0;34m\u001b[0m\u001b[0m\n",
            "\u001b[0;32m/usr/local/lib/python3.10/dist-packages/torch/nn/modules/conv.py\u001b[0m in \u001b[0;36mforward\u001b[0;34m(self, input)\u001b[0m\n\u001b[1;32m    461\u001b[0m \u001b[0;34m\u001b[0m\u001b[0m\n\u001b[1;32m    462\u001b[0m     \u001b[0;32mdef\u001b[0m \u001b[0mforward\u001b[0m\u001b[0;34m(\u001b[0m\u001b[0mself\u001b[0m\u001b[0;34m,\u001b[0m \u001b[0minput\u001b[0m\u001b[0;34m:\u001b[0m \u001b[0mTensor\u001b[0m\u001b[0;34m)\u001b[0m \u001b[0;34m->\u001b[0m \u001b[0mTensor\u001b[0m\u001b[0;34m:\u001b[0m\u001b[0;34m\u001b[0m\u001b[0;34m\u001b[0m\u001b[0m\n\u001b[0;32m--> 463\u001b[0;31m         \u001b[0;32mreturn\u001b[0m \u001b[0mself\u001b[0m\u001b[0;34m.\u001b[0m\u001b[0m_conv_forward\u001b[0m\u001b[0;34m(\u001b[0m\u001b[0minput\u001b[0m\u001b[0;34m,\u001b[0m \u001b[0mself\u001b[0m\u001b[0;34m.\u001b[0m\u001b[0mweight\u001b[0m\u001b[0;34m,\u001b[0m \u001b[0mself\u001b[0m\u001b[0;34m.\u001b[0m\u001b[0mbias\u001b[0m\u001b[0;34m)\u001b[0m\u001b[0;34m\u001b[0m\u001b[0;34m\u001b[0m\u001b[0m\n\u001b[0m\u001b[1;32m    464\u001b[0m \u001b[0;34m\u001b[0m\u001b[0m\n\u001b[1;32m    465\u001b[0m \u001b[0;32mclass\u001b[0m \u001b[0mConv3d\u001b[0m\u001b[0;34m(\u001b[0m\u001b[0m_ConvNd\u001b[0m\u001b[0;34m)\u001b[0m\u001b[0;34m:\u001b[0m\u001b[0;34m\u001b[0m\u001b[0;34m\u001b[0m\u001b[0m\n",
            "\u001b[0;32m/usr/local/lib/python3.10/dist-packages/torch/nn/modules/conv.py\u001b[0m in \u001b[0;36m_conv_forward\u001b[0;34m(self, input, weight, bias)\u001b[0m\n\u001b[1;32m    457\u001b[0m                             \u001b[0mweight\u001b[0m\u001b[0;34m,\u001b[0m \u001b[0mbias\u001b[0m\u001b[0;34m,\u001b[0m \u001b[0mself\u001b[0m\u001b[0;34m.\u001b[0m\u001b[0mstride\u001b[0m\u001b[0;34m,\u001b[0m\u001b[0;34m\u001b[0m\u001b[0;34m\u001b[0m\u001b[0m\n\u001b[1;32m    458\u001b[0m                             _pair(0), self.dilation, self.groups)\n\u001b[0;32m--> 459\u001b[0;31m         return F.conv2d(input, weight, bias, self.stride,\n\u001b[0m\u001b[1;32m    460\u001b[0m                         self.padding, self.dilation, self.groups)\n\u001b[1;32m    461\u001b[0m \u001b[0;34m\u001b[0m\u001b[0m\n",
            "\u001b[0;31mRuntimeError\u001b[0m: Expected 3D (unbatched) or 4D (batched) input to conv2d, but got input of size: [6, 50176]"
          ]
        }
      ]
    },
    {
      "cell_type": "markdown",
      "source": [
        "# DeepLab V3 plus"
      ],
      "metadata": {
        "id": "Uk7URyz9domr"
      }
    },
    {
      "cell_type": "code",
      "source": [
        "import torch\n",
        "import torch.nn as nn\n",
        "import torchvision.models as models\n",
        "\n",
        "class ASPP(nn.Module):\n",
        "    def __init__(self, in_channels, out_channels):\n",
        "        super(ASPP, self).__init__()\n",
        "\n",
        "        self.conv1 = nn.Conv2d(in_channels, out_channels, kernel_size=1)\n",
        "        self.conv2 = nn.Conv2d(in_channels, out_channels, kernel_size=3, padding=1)\n",
        "        self.conv3 = nn.Conv2d(in_channels, out_channels, kernel_size=3, dilation=6, padding=6)\n",
        "        self.conv4 = nn.Conv2d(in_channels, out_channels, kernel_size=3, dilation=12, padding=12)\n",
        "        self.conv5 = nn.Conv2d(in_channels, out_channels, kernel_size=3, dilation=18, padding=18)\n",
        "\n",
        "    def forward(self, x):\n",
        "        conv1 = self.conv1(x)\n",
        "        conv2 = self.conv2(x)\n",
        "        conv3 = self.conv3(x)\n",
        "        conv4 = self.conv4(x)\n",
        "        conv5 = self.conv5(x)\n",
        "\n",
        "        out = torch.cat((conv1, conv2, conv3, conv4, conv5), dim=1)\n",
        "        return out\n",
        "\n",
        "\n",
        "class Decoder(nn.Module):\n",
        "    def __init__(self, in_channels, out_channels, num_classes):\n",
        "        super(Decoder, self).__init__()\n",
        "\n",
        "        self.conv1 = nn.Conv2d(in_channels, out_channels, kernel_size=1)\n",
        "        self.conv2 = nn.Conv2d(out_channels, out_channels, kernel_size=3, padding=1)\n",
        "        self.conv3 = nn.Conv2d(out_channels, num_classes, kernel_size=1)\n",
        "\n",
        "        self.upsample = nn.Upsample(size=(224, 224), mode='bilinear', align_corners=False)\n",
        "\n",
        "    def forward(self, x):\n",
        "        x = self.conv1(x)\n",
        "        x = self.conv2(x)\n",
        "        x = self.conv3(x)\n",
        "        x = self.upsample(x)\n",
        "\n",
        "        return x\n",
        "\n",
        "\n",
        "class DeepLabV3Plus(nn.Module):\n",
        "    def __init__(self, num_classes):\n",
        "        super(DeepLabV3Plus, self).__init__()\n",
        "\n",
        "        # Encoder (ResNet-50)\n",
        "        self.encoder = models.resnet50(pretrained=True)\n",
        "\n",
        "        # ASPP module\n",
        "        self.aspp = ASPP(2048, 256)\n",
        "\n",
        "        # Decoder\n",
        "        self.decoder = Decoder(256 * 5, 256, num_classes)\n",
        "\n",
        "    def forward(self, x):\n",
        "        # Encoder forward pass\n",
        "        features = self.encoder.conv1(x)\n",
        "        features = self.encoder.bn1(features)\n",
        "        features = self.encoder.relu(features)\n",
        "        features = self.encoder.maxpool(features)\n",
        "        features = self.encoder.layer1(features)\n",
        "        features = self.encoder.layer2(features)\n",
        "        features = self.encoder.layer3(features)\n",
        "        features = self.encoder.layer4(features)\n",
        "\n",
        "        # ASPP module forward pass\n",
        "        aspp_features = self.aspp(features)\n",
        "\n",
        "        # Decoder forward pass\n",
        "        output = self.decoder(aspp_features)\n",
        "        output = torch.sigmoid(output)\n",
        "\n",
        "        return output\n",
        "deeplab = DeepLabV3Plus(1).to(device)"
      ],
      "metadata": {
        "execution": {
          "iopub.status.busy": "2023-05-02T12:10:40.686293Z",
          "iopub.status.idle": "2023-05-02T12:10:40.687055Z",
          "shell.execute_reply.started": "2023-05-02T12:10:40.686842Z",
          "shell.execute_reply": "2023-05-02T12:10:40.686864Z"
        },
        "trusted": true,
        "colab": {
          "base_uri": "https://localhost:8080/"
        },
        "id": "NgOVCfNO25g8",
        "outputId": "a9b90362-3d5e-48c4-99b7-77104fa89b64"
      },
      "execution_count": null,
      "outputs": [
        {
          "output_type": "stream",
          "name": "stderr",
          "text": [
            "/usr/local/lib/python3.10/dist-packages/torchvision/models/_utils.py:208: UserWarning: The parameter 'pretrained' is deprecated since 0.13 and may be removed in the future, please use 'weights' instead.\n",
            "  warnings.warn(\n",
            "/usr/local/lib/python3.10/dist-packages/torchvision/models/_utils.py:223: UserWarning: Arguments other than a weight enum or `None` for 'weights' are deprecated since 0.13 and may be removed in the future. The current behavior is equivalent to passing `weights=ResNet50_Weights.IMAGENET1K_V1`. You can also use `weights=ResNet50_Weights.DEFAULT` to get the most up-to-date weights.\n",
            "  warnings.warn(msg)\n",
            "Downloading: \"https://download.pytorch.org/models/resnet50-0676ba61.pth\" to /root/.cache/torch/hub/checkpoints/resnet50-0676ba61.pth\n",
            "100%|██████████| 97.8M/97.8M [00:00<00:00, 217MB/s]\n"
          ]
        }
      ]
    },
    {
      "cell_type": "code",
      "source": [
        "import torch\n",
        "import torch.nn as nn\n",
        "import torch.nn.functional as F\n",
        "\n",
        "\n",
        "class ASPPModule(nn.Module):\n",
        "    def __init__(self, in_channels, out_channels, dilation_rates):\n",
        "        super(ASPPModule, self).__init__()\n",
        "\n",
        "        self.conv1 = nn.Conv2d(in_channels, out_channels, kernel_size=1)\n",
        "        self.bn1 = nn.BatchNorm2d(out_channels)\n",
        "\n",
        "        self.conv2 = nn.Conv2d(in_channels, out_channels, kernel_size=3, padding=dilation_rates[0], dilation=dilation_rates[0])\n",
        "        self.bn2 = nn.BatchNorm2d(out_channels)\n",
        "\n",
        "        self.conv3 = nn.Conv2d(in_channels, out_channels, kernel_size=3, padding=dilation_rates[1], dilation=dilation_rates[1])\n",
        "        self.bn3 = nn.BatchNorm2d(out_channels)\n",
        "\n",
        "        self.conv4 = nn.Conv2d(in_channels, out_channels, kernel_size=3, padding=dilation_rates[2], dilation=dilation_rates[2])\n",
        "        self.bn4 = nn.BatchNorm2d(out_channels)\n",
        "\n",
        "        self.conv5 = nn.Conv2d(in_channels, out_channels, kernel_size=1)\n",
        "        self.bn5 = nn.BatchNorm2d(out_channels)\n",
        "\n",
        "        self.relu = nn.ReLU(inplace=True)\n",
        "\n",
        "    def forward(self, x):\n",
        "        # Branch 1: 1x1 convolution\n",
        "        branch1 = self.conv1(x)\n",
        "        branch1 = self.bn1(branch1)\n",
        "        branch1 = self.relu(branch1)\n",
        "\n",
        "        # Branch 2: 3x3 convolution with dilation rate 6\n",
        "        branch2 = self.conv2(x)\n",
        "        branch2 = self.bn2(branch2)\n",
        "        branch2 = self.relu(branch2)\n",
        "\n",
        "        # Branch 3: 3x3 convolution with dilation rate 12\n",
        "        branch3 = self.conv3(x)\n",
        "        branch3 = self.bn3(branch3)\n",
        "        branch3 = self.relu(branch3)\n",
        "\n",
        "        # Branch 4: 3x3 convolution with dilation rate 18\n",
        "        branch4 = self.conv4(x)\n",
        "        branch4 = self.bn4(branch4)\n",
        "        branch4 = self.relu(branch4)\n",
        "\n",
        "        # Branch 5: global average pooling and 1x1 convolution\n",
        "        branch5 = F.adaptive_avg_pool2d(x, (1, 1))\n",
        "        branch5 = self.conv5(branch5)\n",
        "        branch5 = self.bn5(branch5)\n",
        "        branch5 = self.relu(branch5)\n",
        "        branch5 = F.interpolate(branch5, size=x.size()[2:], mode='bilinear', align_corners=True)\n",
        "\n",
        "        # Concatenate branches and return\n",
        "        output = torch.cat((branch1, branch2, branch3, branch4, branch5), dim=1)\n",
        "        return output\n",
        "\n",
        "\n",
        "class DeepLabv3Plus(nn.Module):\n",
        "    def __init__(self, num_classes):\n",
        "        super(DeepLabv3Plus, self).__init__()\n",
        "\n",
        "        self.backbone = nn.Sequential(\n",
        "            nn.Conv2d(3, 3, kernel_size=1),\n",
        "            nn.BatchNorm2d(3),\n",
        "            nn.ReLU(inplace=True),\n",
        "            nn.Conv2d(3, 64, kernel_size=3, stride=2, padding=1),\n",
        "            nn.BatchNorm2d(64),\n",
        "            nn.ReLU(inplace=True),\n",
        "            nn.Conv2d(64, 64, kernel_size=3, stride=1, padding=1),\n",
        "            nn.BatchNorm2d(64),\n",
        "            nn.ReLU(inplace=True),\n",
        "            nn.Conv2d(64, 128, kernel_size=3, stride=1, padding=1))\n",
        "        self.aspp = ASPPModule(in_channels=128, out_channels=256, dilation_rates=[6, 12, 18])\n",
        "        self.decoder = nn.Sequential(\n",
        "              nn.Conv2d(1280, 256, kernel_size=3, padding=1),\n",
        "              nn.BatchNorm2d(256),\n",
        "              nn.ReLU(inplace=True),\n",
        "              nn.Conv2d(256, 256, kernel_size=3, padding=1),\n",
        "              nn.BatchNorm2d(256),\n",
        "              nn.ReLU(inplace=True),\n",
        "              nn.Conv2d(256, num_classes, kernel_size=1)\n",
        "          )\n",
        "\n",
        "    def forward(self, x):\n",
        "          # Backbone\n",
        "        x = self.backbone(x)\n",
        "\n",
        "        # ASPP\n",
        "        x = self.aspp(x)\n",
        "\n",
        "        # Decoder\n",
        "        x = self.decoder(x)\n",
        "\n",
        "        # Upsample to original image size\n",
        "        x = F.interpolate(x, size=(224, 224), mode='bilinear', align_corners=True)\n",
        "\n",
        "        return torch.sigmoid(x)\n",
        "\n",
        "\n",
        "model = DeepLabv3Plus(1)"
      ],
      "metadata": {
        "id": "iDfy7811RTCB"
      },
      "execution_count": null,
      "outputs": []
    },
    {
      "cell_type": "markdown",
      "source": [
        "## Training DeepLabV3 plus model"
      ],
      "metadata": {
        "id": "P7UfwlV8d0Mb"
      }
    },
    {
      "cell_type": "code",
      "source": [
        "model, train_loss, test_loss, train_iou, test_iou = train_model(deeplab, train_dl,\n",
        "                                    test_dl, epochs=num_epochs, loss_fn=dice_loss,  learning_rate=0.001)\n",
        "accuracies[\"DeepLabV3+\"] = np.mean(test_iou)"
      ],
      "metadata": {
        "execution": {
          "iopub.status.busy": "2023-05-02T12:10:40.688811Z",
          "iopub.status.idle": "2023-05-02T12:10:40.689269Z",
          "shell.execute_reply.started": "2023-05-02T12:10:40.689068Z",
          "shell.execute_reply": "2023-05-02T12:10:40.689089Z"
        },
        "trusted": true,
        "colab": {
          "base_uri": "https://localhost:8080/",
          "height": 200
        },
        "id": "fAYsc-za25g9",
        "outputId": "02a231c2-bf3c-4beb-d189-0cb0eaf2d654"
      },
      "execution_count": null,
      "outputs": [
        {
          "output_type": "error",
          "ename": "NameError",
          "evalue": "ignored",
          "traceback": [
            "\u001b[0;31m---------------------------------------------------------------------------\u001b[0m",
            "\u001b[0;31mNameError\u001b[0m                                 Traceback (most recent call last)",
            "\u001b[0;32m<ipython-input-13-75fbf98fe650>\u001b[0m in \u001b[0;36m<cell line: 1>\u001b[0;34m()\u001b[0m\n\u001b[0;32m----> 1\u001b[0;31m model, train_loss, test_loss, train_iou, test_iou = train_model(deeplab, train_dl,\n\u001b[0m\u001b[1;32m      2\u001b[0m                                     test_dl, epochs=num_epochs, loss_fn=dice_loss,  learning_rate=0.001)\n\u001b[1;32m      3\u001b[0m \u001b[0maccuracies\u001b[0m\u001b[0;34m[\u001b[0m\u001b[0;34m\"DeepLabV3+\"\u001b[0m\u001b[0;34m]\u001b[0m \u001b[0;34m=\u001b[0m \u001b[0mnp\u001b[0m\u001b[0;34m.\u001b[0m\u001b[0mmean\u001b[0m\u001b[0;34m(\u001b[0m\u001b[0mtest_iou\u001b[0m\u001b[0;34m)\u001b[0m\u001b[0;34m\u001b[0m\u001b[0;34m\u001b[0m\u001b[0m\n",
            "\u001b[0;31mNameError\u001b[0m: name 'deeplab' is not defined"
          ]
        }
      ]
    },
    {
      "cell_type": "code",
      "source": [
        "from torch.utils.tensorboard import SummaryWriter\n",
        "model = DeepLabv3Plus(1)\n",
        "device = torch.device('cuda' if torch.cuda.is_available() else 'cpu')\n",
        "model = model.to(device)\n",
        "\n",
        "# Define loss function and optimizer\n",
        "criterion = nn.BCEWithLogitsLoss()\n",
        "optimizer = optim.Adam(model.parameters(), lr=0.001)\n",
        "\n",
        "# Learning rate scheduler\n",
        "scheduler = optim.lr_scheduler.StepLR(optimizer, step_size=3, gamma=0.01)\n",
        "\n",
        "# Tensorboard logging\n",
        "writer = SummaryWriter()\n",
        "\n",
        "# Training loop\n",
        "num_epochs = 30\n",
        "\n",
        "best_val_loss = float('inf')\n",
        "\n",
        "for epoch in range(num_epochs):\n",
        "    model.train()\n",
        "    train_loss = 0.0\n",
        "\n",
        "    for images, masks in tqdm(train_dl):\n",
        "        images = images.to(device)\n",
        "        masks = masks.to(device)\n",
        "\n",
        "        # Forward pass\n",
        "        outputs = model(images)\n",
        "        loss = iou_loss(outputs, masks)\n",
        "        # loss = criterion(outputs, masks)\n",
        "\n",
        "\n",
        "        # Backward pass and optimization\n",
        "        optimizer.zero_grad()\n",
        "        loss.backward()\n",
        "        optimizer.step()\n",
        "\n",
        "        train_loss += loss.item() * images.size(0)\n",
        "\n",
        "    train_loss /= len(train_ds)\n",
        "\n",
        "    # Validation\n",
        "    model.eval()\n",
        "    val_loss = 0.0\n",
        "\n",
        "    with torch.no_grad():\n",
        "        for images, masks in tqdm(test_dl):\n",
        "            images = images.to(device)\n",
        "            masks = masks.to(device)\n",
        "\n",
        "            # Forward pass\n",
        "            outputs = model(images)\n",
        "            loss = iou_loss(outputs, masks)\n",
        "            # loss = criterion(outputs, masks)\n",
        "\n",
        "            val_loss += loss.item() * images.size(0)\n",
        "\n",
        "        val_loss /= len(test_ds)\n",
        "\n",
        "    # Learning rate scheduling\n",
        "    scheduler.step()\n",
        "\n",
        "    # Save the best model based on validation loss\n",
        "    if val_loss < best_val_loss:\n",
        "        best_val_loss = val_loss\n",
        "        torch.save(model.state_dict(), 'best_model.pth')\n",
        "\n",
        "    # Print epoch statistics\n",
        "    print(f'Epoch {epoch+1}/{num_epochs}, Train Loss: {train_loss:.4f}, Val Loss: {val_loss:.4f}')\n",
        "    print(lr)\n",
        "\n",
        "    # Tensorboard logging\n",
        "    writer.add_scalar('Loss/Train', train_loss, epoch+1)\n",
        "    writer.add_scalar('Loss/Val', val_loss, epoch+1)\n",
        "\n",
        "# Close the tensorboard writer\n",
        "writer.close()\n"
      ],
      "metadata": {
        "colab": {
          "base_uri": "https://localhost:8080/"
        },
        "id": "CEy-eKNTylzM",
        "outputId": "cb1cf186-d91c-4350-a92b-490c9927eb03"
      },
      "execution_count": null,
      "outputs": [
        {
          "output_type": "stream",
          "name": "stderr",
          "text": [
            "100%|██████████| 39/39 [00:36<00:00,  1.07it/s]\n",
            "100%|██████████| 10/10 [00:05<00:00,  1.96it/s]\n"
          ]
        },
        {
          "output_type": "stream",
          "name": "stdout",
          "text": [
            "Epoch 1/30, Train Loss: 1.3629, Val Loss: 1.9022\n",
            "0.001\n"
          ]
        },
        {
          "output_type": "stream",
          "name": "stderr",
          "text": [
            "100%|██████████| 39/39 [00:36<00:00,  1.06it/s]\n",
            "100%|██████████| 10/10 [00:05<00:00,  1.94it/s]\n"
          ]
        },
        {
          "output_type": "stream",
          "name": "stdout",
          "text": [
            "Epoch 2/30, Train Loss: 1.2080, Val Loss: 1.3975\n",
            "0.001\n"
          ]
        },
        {
          "output_type": "stream",
          "name": "stderr",
          "text": [
            "100%|██████████| 39/39 [00:36<00:00,  1.06it/s]\n",
            "100%|██████████| 10/10 [00:05<00:00,  1.92it/s]\n"
          ]
        },
        {
          "output_type": "stream",
          "name": "stdout",
          "text": [
            "Epoch 3/30, Train Loss: 1.3190, Val Loss: 1.4014\n",
            "0.001\n"
          ]
        },
        {
          "output_type": "stream",
          "name": "stderr",
          "text": [
            "100%|██████████| 39/39 [00:37<00:00,  1.03it/s]\n",
            "100%|██████████| 10/10 [00:05<00:00,  1.70it/s]\n"
          ]
        },
        {
          "output_type": "stream",
          "name": "stdout",
          "text": [
            "Epoch 4/30, Train Loss: 1.3135, Val Loss: -0.3935\n",
            "0.001\n"
          ]
        },
        {
          "output_type": "stream",
          "name": "stderr",
          "text": [
            "100%|██████████| 39/39 [00:37<00:00,  1.04it/s]\n",
            "100%|██████████| 10/10 [00:05<00:00,  1.68it/s]\n"
          ]
        },
        {
          "output_type": "stream",
          "name": "stdout",
          "text": [
            "Epoch 5/30, Train Loss: 1.2817, Val Loss: 3.8351\n",
            "0.001\n"
          ]
        },
        {
          "output_type": "stream",
          "name": "stderr",
          "text": [
            "100%|██████████| 39/39 [00:37<00:00,  1.03it/s]\n",
            "100%|██████████| 10/10 [00:05<00:00,  1.90it/s]\n"
          ]
        },
        {
          "output_type": "stream",
          "name": "stdout",
          "text": [
            "Epoch 6/30, Train Loss: 1.3064, Val Loss: 2.5874\n",
            "0.001\n"
          ]
        },
        {
          "output_type": "stream",
          "name": "stderr",
          "text": [
            "100%|██████████| 39/39 [00:37<00:00,  1.03it/s]\n",
            "100%|██████████| 10/10 [00:05<00:00,  1.89it/s]\n"
          ]
        },
        {
          "output_type": "stream",
          "name": "stdout",
          "text": [
            "Epoch 7/30, Train Loss: 1.2903, Val Loss: 1.8736\n",
            "0.001\n"
          ]
        },
        {
          "output_type": "stream",
          "name": "stderr",
          "text": [
            "100%|██████████| 39/39 [00:37<00:00,  1.03it/s]\n",
            "100%|██████████| 10/10 [00:05<00:00,  1.90it/s]\n"
          ]
        },
        {
          "output_type": "stream",
          "name": "stdout",
          "text": [
            "Epoch 8/30, Train Loss: 1.3041, Val Loss: -1.8947\n",
            "0.001\n"
          ]
        },
        {
          "output_type": "stream",
          "name": "stderr",
          "text": [
            "100%|██████████| 39/39 [00:37<00:00,  1.04it/s]\n",
            "100%|██████████| 10/10 [00:05<00:00,  1.67it/s]\n"
          ]
        },
        {
          "output_type": "stream",
          "name": "stdout",
          "text": [
            "Epoch 9/30, Train Loss: 1.2337, Val Loss: 2.7658\n",
            "0.001\n"
          ]
        },
        {
          "output_type": "stream",
          "name": "stderr",
          "text": [
            "100%|██████████| 39/39 [00:37<00:00,  1.05it/s]\n",
            "100%|██████████| 10/10 [00:05<00:00,  1.71it/s]\n"
          ]
        },
        {
          "output_type": "stream",
          "name": "stdout",
          "text": [
            "Epoch 10/30, Train Loss: 1.2168, Val Loss: 2.6268\n",
            "0.001\n"
          ]
        },
        {
          "output_type": "stream",
          "name": "stderr",
          "text": [
            "100%|██████████| 39/39 [00:37<00:00,  1.03it/s]\n",
            "100%|██████████| 10/10 [00:05<00:00,  1.91it/s]\n"
          ]
        },
        {
          "output_type": "stream",
          "name": "stdout",
          "text": [
            "Epoch 11/30, Train Loss: 1.3021, Val Loss: 1.8459\n",
            "0.001\n"
          ]
        },
        {
          "output_type": "stream",
          "name": "stderr",
          "text": [
            "100%|██████████| 39/39 [00:37<00:00,  1.04it/s]\n",
            "100%|██████████| 10/10 [00:05<00:00,  1.93it/s]\n"
          ]
        },
        {
          "output_type": "stream",
          "name": "stdout",
          "text": [
            "Epoch 12/30, Train Loss: 1.2058, Val Loss: 28.0427\n",
            "0.001\n"
          ]
        },
        {
          "output_type": "stream",
          "name": "stderr",
          "text": [
            "100%|██████████| 39/39 [00:37<00:00,  1.04it/s]\n",
            "100%|██████████| 10/10 [00:05<00:00,  1.94it/s]\n"
          ]
        },
        {
          "output_type": "stream",
          "name": "stdout",
          "text": [
            "Epoch 13/30, Train Loss: 1.3213, Val Loss: 1.8982\n",
            "0.001\n"
          ]
        },
        {
          "output_type": "stream",
          "name": "stderr",
          "text": [
            "100%|██████████| 39/39 [00:37<00:00,  1.03it/s]\n",
            "100%|██████████| 10/10 [00:05<00:00,  1.67it/s]\n"
          ]
        },
        {
          "output_type": "stream",
          "name": "stdout",
          "text": [
            "Epoch 14/30, Train Loss: 1.2358, Val Loss: 1.6456\n",
            "0.001\n"
          ]
        },
        {
          "output_type": "stream",
          "name": "stderr",
          "text": [
            "100%|██████████| 39/39 [00:37<00:00,  1.03it/s]\n",
            "100%|██████████| 10/10 [00:05<00:00,  1.72it/s]\n"
          ]
        },
        {
          "output_type": "stream",
          "name": "stdout",
          "text": [
            "Epoch 15/30, Train Loss: 1.2342, Val Loss: 1.1961\n",
            "0.001\n"
          ]
        },
        {
          "output_type": "stream",
          "name": "stderr",
          "text": [
            "100%|██████████| 39/39 [00:37<00:00,  1.05it/s]\n",
            "100%|██████████| 10/10 [00:05<00:00,  1.86it/s]\n"
          ]
        },
        {
          "output_type": "stream",
          "name": "stdout",
          "text": [
            "Epoch 16/30, Train Loss: 1.2021, Val Loss: 1.6173\n",
            "0.001\n"
          ]
        },
        {
          "output_type": "stream",
          "name": "stderr",
          "text": [
            " 77%|███████▋  | 30/39 [00:30<00:08,  1.09it/s]"
          ]
        }
      ]
    },
    {
      "cell_type": "code",
      "source": [
        "res.max(), res.min(), mask.max(), mask.min()"
      ],
      "metadata": {
        "colab": {
          "base_uri": "https://localhost:8080/",
          "height": 165
        },
        "id": "tJYHnluRdDO4",
        "outputId": "8d47e11b-e58e-4f75-e2e5-1e881b34b41b"
      },
      "execution_count": null,
      "outputs": [
        {
          "output_type": "error",
          "ename": "NameError",
          "evalue": "ignored",
          "traceback": [
            "\u001b[0;31m---------------------------------------------------------------------------\u001b[0m",
            "\u001b[0;31mNameError\u001b[0m                                 Traceback (most recent call last)",
            "\u001b[0;32m<ipython-input-10-c4c7d2a6a2ba>\u001b[0m in \u001b[0;36m<cell line: 1>\u001b[0;34m()\u001b[0m\n\u001b[0;32m----> 1\u001b[0;31m \u001b[0mres\u001b[0m\u001b[0;34m.\u001b[0m\u001b[0mmax\u001b[0m\u001b[0;34m(\u001b[0m\u001b[0;34m)\u001b[0m\u001b[0;34m,\u001b[0m \u001b[0mres\u001b[0m\u001b[0;34m.\u001b[0m\u001b[0mmin\u001b[0m\u001b[0;34m(\u001b[0m\u001b[0;34m)\u001b[0m\u001b[0;34m,\u001b[0m \u001b[0mmask\u001b[0m\u001b[0;34m.\u001b[0m\u001b[0mmax\u001b[0m\u001b[0;34m(\u001b[0m\u001b[0;34m)\u001b[0m\u001b[0;34m,\u001b[0m \u001b[0mmask\u001b[0m\u001b[0;34m.\u001b[0m\u001b[0mmin\u001b[0m\u001b[0;34m(\u001b[0m\u001b[0;34m)\u001b[0m\u001b[0;34m\u001b[0m\u001b[0;34m\u001b[0m\u001b[0m\n\u001b[0m",
            "\u001b[0;31mNameError\u001b[0m: name 'res' is not defined"
          ]
        }
      ]
    },
    {
      "cell_type": "code",
      "source": [
        "for img, mask in test_dl:\n",
        "  res = model(img.to(device))\n",
        "  print(iou(mask.to(device), res.to(device)))\n",
        "  break\n",
        "plt.imshow(np.hstack([mask[0].detach().cpu().swapaxes(0,2), res[0].detach().cpu().swapaxes(0,2)]))\n",
        "# plt.imshow(img[0].detach().cpu().swapaxes(0,2))\n",
        "# plt.imshow(res[0].detach().cpu().swapaxes(0, 2))"
      ],
      "metadata": {
        "colab": {
          "base_uri": "https://localhost:8080/",
          "height": 348
        },
        "id": "VRzIRbFi_Hxw",
        "outputId": "b5f92185-4336-481a-bd3d-a5a138ababdd"
      },
      "execution_count": null,
      "outputs": [
        {
          "output_type": "stream",
          "name": "stdout",
          "text": [
            "tensor(0.8521, device='cuda:0', grad_fn=<DivBackward0>)\n"
          ]
        },
        {
          "output_type": "execute_result",
          "data": {
            "text/plain": [
              "<matplotlib.image.AxesImage at 0x7f366065a4d0>"
            ]
          },
          "metadata": {},
          "execution_count": 156
        },
        {
          "output_type": "display_data",
          "data": {
            "text/plain": [
              "<Figure size 640x480 with 1 Axes>"
            ],
            "image/png": "[encoded data removed]"
          },
          "metadata": {}
        }
      ]
    },
    {
      "cell_type": "code",
      "source": [
        "# plt.imshow(res[0].detach().cpu().swapaxes(0,2))\n",
        "# iou(mask[0].to(device), res[0].to(device))\n",
        "plt.imshow(res[0].detach().cpu().permute(2, 1, 0))"
      ],
      "metadata": {
        "colab": {
          "base_uri": "https://localhost:8080/",
          "height": 451
        },
        "id": "BiboCzp4yCek",
        "outputId": "9faf7c0f-15b8-44e8-8e7c-0088b7b91d82"
      },
      "execution_count": null,
      "outputs": [
        {
          "output_type": "execute_result",
          "data": {
            "text/plain": [
              "<matplotlib.image.AxesImage at 0x7f3660320760>"
            ]
          },
          "metadata": {},
          "execution_count": 157
        },
        {
          "output_type": "display_data",
          "data": {
            "text/plain": [
              "<Figure size 640x480 with 1 Axes>"
            ],
            "image/png": "[encoded data removed]"
          },
          "metadata": {}
        }
      ]
    },
    {
      "cell_type": "code",
      "source": [
        "accuracies"
      ],
      "metadata": {
        "execution": {
          "iopub.status.busy": "2023-05-02T12:10:40.690303Z",
          "iopub.status.idle": "2023-05-02T12:10:40.690691Z",
          "shell.execute_reply.started": "2023-05-02T12:10:40.690504Z",
          "shell.execute_reply": "2023-05-02T12:10:40.690523Z"
        },
        "trusted": true,
        "colab": {
          "base_uri": "https://localhost:8080/"
        },
        "id": "m8wpsmZt25g9",
        "outputId": "066027c9-eaab-4b5b-d731-2ed04fc8344d"
      },
      "execution_count": null,
      "outputs": [
        {
          "output_type": "execute_result",
          "data": {
            "text/plain": [
              "{'UNet': None,\n",
              " 'ResNextUNet': None,\n",
              " 'DeepLabV3+': 1.5797081637004065,\n",
              " 'VIT': None}"
            ]
          },
          "metadata": {},
          "execution_count": 37
        }
      ]
    },
    {
      "cell_type": "code",
      "source": [
        "\n",
        "def make_one_hot(input, num_classes):\n",
        "    \"\"\"Convert class index tensor to one hot encoding tensor.\n",
        "\n",
        "    Args:\n",
        "         input: A tensor of shape [N, 1, *]\n",
        "         num_classes: An int of number of class\n",
        "    Returns:\n",
        "        A tensor of shape [N, num_classes, *]\n",
        "    \"\"\"\n",
        "    shape = np.array(input.shape)\n",
        "    shape[1] = num_classes\n",
        "    shape = tuple(shape)\n",
        "    result = torch.zeros(shape)\n",
        "    result = result.scatter_(1, input.cpu(), 1)\n",
        "\n",
        "    return result\n",
        "\n",
        "\n",
        "class BinaryDiceLoss(nn.Module):\n",
        "    \"\"\"Dice loss of binary class\n",
        "    Args:\n",
        "        smooth: A float number to smooth loss, and avoid NaN error, default: 1\n",
        "        p: Denominator value: \\sum{x^p} + \\sum{y^p}, default: 2\n",
        "        predict: A tensor of shape [N, *]\n",
        "        target: A tensor of shape same with predict\n",
        "        reduction: Reduction method to apply, return mean over batch if 'mean',\n",
        "            return sum if 'sum', return a tensor of shape [N,] if 'none'\n",
        "    Returns:\n",
        "        Loss tensor according to arg reduction\n",
        "    Raise:\n",
        "        Exception if unexpected reduction\n",
        "    \"\"\"\n",
        "    def __init__(self, smooth=1, p=2, reduction='mean'):\n",
        "        super(BinaryDiceLoss, self).__init__()\n",
        "        self.smooth = smooth\n",
        "        self.p = p\n",
        "        self.reduction = reduction\n",
        "\n",
        "    def forward(self, predict, target):\n",
        "        assert predict.shape[0] == target.shape[0], \"predict & target batch size don't match\"\n",
        "        predict = predict.contiguous().view(predict.shape[0], -1)\n",
        "        target = target.contiguous().view(target.shape[0], -1)\n",
        "\n",
        "        num = torch.sum(torch.mul(predict, target), dim=1) + self.smooth\n",
        "        den = torch.sum(predict.pow(self.p) + target.pow(self.p), dim=1) + self.smooth\n",
        "\n",
        "        loss = 1 - num / den\n",
        "\n",
        "        if self.reduction == 'mean':\n",
        "            return loss.mean()\n",
        "        elif self.reduction == 'sum':\n",
        "            return loss.sum()\n",
        "        elif self.reduction == 'none':\n",
        "            return loss\n",
        "        else:\n",
        "            raise Exception('Unexpected reduction {}'.format(self.reduction))\n",
        "\n",
        "\n",
        "class DiceLoss(nn.Module):\n",
        "    \"\"\"Dice loss, need one hot encode input\n",
        "    Args:\n",
        "        weight: An array of shape [num_classes,]\n",
        "        ignore_index: class index to ignore\n",
        "        predict: A tensor of shape [N, C, *]\n",
        "        target: A tensor of same shape with predict\n",
        "        other args pass to BinaryDiceLoss\n",
        "    Return:\n",
        "        same as BinaryDiceLoss\n",
        "    \"\"\"\n",
        "    def __init__(self, weight=None, ignore_index=None, **kwargs):\n",
        "        super(DiceLoss, self).__init__()\n",
        "        self.kwargs = kwargs\n",
        "        self.weight = weight\n",
        "        self.ignore_index = ignore_index\n",
        "\n",
        "    def forward(self, predict, target):\n",
        "        assert predict.shape == target.shape, 'predict & target shape do not match'\n",
        "        dice = BinaryDiceLoss(**self.kwargs)\n",
        "        total_loss = 0\n",
        "        predict = F.softmax(predict, dim=1)\n",
        "\n",
        "        for i in range(target.shape[1]):\n",
        "            if i != self.ignore_index:\n",
        "                dice_loss = dice(predict[:, i], target[:, i])\n",
        "                if self.weight is not None:\n",
        "                    assert self.weight.shape[0] == target.shape[1], \\\n",
        "                        'Expect weight shape [{}], get[{}]'.format(target.shape[1], self.weight.shape[0])\n",
        "                    dice_loss *= self.weights[i]\n",
        "                total_loss += dice_loss\n",
        "\n",
        "        return total_loss/target.shape[1]\n",
        "dice_loss = DiceLoss()\n",
        "dice_loss(mask.to(device) , res.to(device))"
      ],
      "metadata": {
        "colab": {
          "base_uri": "https://localhost:8080/"
        },
        "id": "Olka9Cw0Gcz0",
        "outputId": "edf68166-c850-4f15-dfa9-015acf74d635"
      },
      "execution_count": null,
      "outputs": [
        {
          "output_type": "execute_result",
          "data": {
            "text/plain": [
              "tensor(0.5000, device='cuda:0', grad_fn=<DivBackward0>)"
            ]
          },
          "metadata": {},
          "execution_count": 66
        }
      ]
    },
    {
      "cell_type": "code",
      "source": [
        "for img, mask in test_dl:\n",
        "  res = deeplab(img.to(device))\n",
        "  break\n",
        "plt.imshow(res[0].detach().cpu().swapaxes(0, 2))"
      ],
      "metadata": {
        "id": "xrZbnwMM25g-",
        "colab": {
          "base_uri": "https://localhost:8080/",
          "height": 506
        },
        "outputId": "5bcfdb5d-a03b-41f6-dff2-d758d8f9fa20"
      },
      "execution_count": null,
      "outputs": [
        {
          "output_type": "stream",
          "name": "stderr",
          "text": [
            "/usr/local/lib/python3.10/dist-packages/torchvision/transforms/functional.py:1603: UserWarning: The default value of the antialias parameter of all the resizing transforms (Resize(), RandomResizedCrop(), etc.) will change from None to True in v0.17, in order to be consistent across the PIL and Tensor backends. To suppress this warning, directly pass antialias=True (recommended, future default), antialias=None (current default, which means False for Tensors and True for PIL), or antialias=False (only works on Tensors - PIL will still use antialiasing). This also applies if you are using the inference transforms from the models weights: update the call to weights.transforms(antialias=True).\n",
            "  warnings.warn(\n"
          ]
        },
        {
          "output_type": "execute_result",
          "data": {
            "text/plain": [
              "<matplotlib.image.AxesImage at 0x7f3f6f1533a0>"
            ]
          },
          "metadata": {},
          "execution_count": 42
        },
        {
          "output_type": "display_data",
          "data": {
            "text/plain": [
              "<Figure size 640x480 with 1 Axes>"
            ],
            "image/png": "[encoded data removed]"
          },
          "metadata": {}
        }
      ]
    }
  ]
}